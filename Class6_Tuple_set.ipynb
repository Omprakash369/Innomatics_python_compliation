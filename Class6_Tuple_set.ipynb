{
 "cells": [
  {
   "cell_type": "markdown",
   "id": "e2479307-dc19-41e1-9efd-062d0b6bdbba",
   "metadata": {},
   "source": [
    "# Tuple"
   ]
  },
  {
   "cell_type": "code",
   "execution_count": 19,
   "id": "2925c5df-89f3-41e0-8a0a-f1efe32e30f3",
   "metadata": {},
   "outputs": [
    {
     "data": {
      "text/plain": [
       "('apple', 'orange', 'mango')"
      ]
     },
     "execution_count": 19,
     "metadata": {},
     "output_type": "execute_result"
    }
   ],
   "source": [
    "fruits = ('apple','orange','mango')\n",
    "fruits"
   ]
  },
  {
   "cell_type": "code",
   "execution_count": 21,
   "id": "3023631b-2778-4b58-b0b0-dee722d3fed6",
   "metadata": {},
   "outputs": [
    {
     "data": {
      "text/plain": [
       "tuple"
      ]
     },
     "execution_count": 21,
     "metadata": {},
     "output_type": "execute_result"
    }
   ],
   "source": [
    "# type\n",
    "type(fruits)"
   ]
  },
  {
   "cell_type": "code",
   "execution_count": 23,
   "id": "a8d5e15b-a8ba-4ce9-9b13-2ccc265075dd",
   "metadata": {},
   "outputs": [
    {
     "data": {
      "text/plain": [
       "'mango'"
      ]
     },
     "execution_count": 23,
     "metadata": {},
     "output_type": "execute_result"
    }
   ],
   "source": [
    "# slicing\n",
    "fruits[2]"
   ]
  },
  {
   "cell_type": "code",
   "execution_count": null,
   "id": "1bc67fa1-f5b1-4f0a-9b74-d588218065f2",
   "metadata": {},
   "outputs": [],
   "source": []
  },
  {
   "cell_type": "markdown",
   "id": "98601ed0-fe64-4e75-9d81-aeb005d315ac",
   "metadata": {},
   "source": [
    "# Count"
   ]
  },
  {
   "cell_type": "code",
   "execution_count": 25,
   "id": "ff0fcc41-759c-48c1-8cf1-0bd4b5e05221",
   "metadata": {},
   "outputs": [
    {
     "data": {
      "text/plain": [
       "1"
      ]
     },
     "execution_count": 25,
     "metadata": {},
     "output_type": "execute_result"
    }
   ],
   "source": [
    "fruits.count('mango')"
   ]
  },
  {
   "cell_type": "markdown",
   "id": "48fe5998-6eb9-42aa-9156-e4a9c556e0c1",
   "metadata": {},
   "source": [
    "# index"
   ]
  },
  {
   "cell_type": "code",
   "execution_count": 27,
   "id": "b1ef4c08-89dd-4a5b-94be-dc2867352533",
   "metadata": {},
   "outputs": [
    {
     "data": {
      "text/plain": [
       "1"
      ]
     },
     "execution_count": 27,
     "metadata": {},
     "output_type": "execute_result"
    }
   ],
   "source": [
    "fruits.index('orange')"
   ]
  },
  {
   "cell_type": "code",
   "execution_count": 29,
   "id": "da720a5f-ca14-43aa-87a1-e0b76c00897a",
   "metadata": {},
   "outputs": [
    {
     "ename": "AttributeError",
     "evalue": "'tuple' object has no attribute 'append'",
     "output_type": "error",
     "traceback": [
      "\u001b[1;31m---------------------------------------------------------------------------\u001b[0m",
      "\u001b[1;31mAttributeError\u001b[0m                            Traceback (most recent call last)",
      "Cell \u001b[1;32mIn[29], line 2\u001b[0m\n\u001b[0;32m      1\u001b[0m \u001b[38;5;66;03m# Let's try append\u001b[39;00m\n\u001b[1;32m----> 2\u001b[0m fruits\u001b[38;5;241m.\u001b[39mappend(\u001b[38;5;124m'\u001b[39m\u001b[38;5;124mbanana\u001b[39m\u001b[38;5;124m'\u001b[39m)\n",
      "\u001b[1;31mAttributeError\u001b[0m: 'tuple' object has no attribute 'append'"
     ]
    }
   ],
   "source": [
    "# Let's try append\n",
    "fruits.append('banana')"
   ]
  },
  {
   "cell_type": "code",
   "execution_count": 31,
   "id": "d735d5cf-c638-4199-8c19-59d8a3ad6717",
   "metadata": {},
   "outputs": [
    {
     "data": {
      "text/plain": [
       "list"
      ]
     },
     "execution_count": 31,
     "metadata": {},
     "output_type": "execute_result"
    }
   ],
   "source": [
    "# Typecasting (tuple to list and viceversa)\n",
    "fruits = list(fruits)\n",
    "type(fruits)"
   ]
  },
  {
   "cell_type": "code",
   "execution_count": 33,
   "id": "c5912ed7-9571-4bc0-a08b-e0e2dff10aae",
   "metadata": {},
   "outputs": [
    {
     "data": {
      "text/plain": [
       "['apple', 'orange', 'mango', 'banana']"
      ]
     },
     "execution_count": 33,
     "metadata": {},
     "output_type": "execute_result"
    }
   ],
   "source": [
    "fruits.append('banana')\n",
    "fruits"
   ]
  },
  {
   "cell_type": "code",
   "execution_count": 35,
   "id": "c8500144-8e4e-41ca-bca8-b48140ace56e",
   "metadata": {},
   "outputs": [
    {
     "data": {
      "text/plain": [
       "tuple"
      ]
     },
     "execution_count": 35,
     "metadata": {},
     "output_type": "execute_result"
    }
   ],
   "source": [
    "fruits = tuple(fruits)\n",
    "type(fruits)"
   ]
  },
  {
   "cell_type": "code",
   "execution_count": 37,
   "id": "e1f9e400-fee5-4030-bb59-297d1c6c87aa",
   "metadata": {},
   "outputs": [
    {
     "data": {
      "text/plain": [
       "('apple', 'orange', 'mango', 'banana')"
      ]
     },
     "execution_count": 37,
     "metadata": {},
     "output_type": "execute_result"
    }
   ],
   "source": [
    "fruits"
   ]
  },
  {
   "cell_type": "code",
   "execution_count": 39,
   "id": "869c397c-63bf-4636-88df-428cbfbe6b24",
   "metadata": {},
   "outputs": [
    {
     "data": {
      "text/plain": [
       "4"
      ]
     },
     "execution_count": 39,
     "metadata": {},
     "output_type": "execute_result"
    }
   ],
   "source": [
    "# You can check the length of the tuple\n",
    "len(fruits)"
   ]
  },
  {
   "cell_type": "code",
   "execution_count": 41,
   "id": "738ff550-417b-4212-abd3-041778977f1e",
   "metadata": {},
   "outputs": [
    {
     "data": {
      "text/plain": [
       "('apple', 'orange', 'mango', 'banana')"
      ]
     },
     "execution_count": 41,
     "metadata": {},
     "output_type": "execute_result"
    }
   ],
   "source": [
    "# copy\n",
    "fruits_dup = fruits\n",
    "fruits_dup"
   ]
  },
  {
   "cell_type": "markdown",
   "id": "6d5b72ba-79fa-4497-be66-10b3b7700183",
   "metadata": {},
   "source": [
    "# set"
   ]
  },
  {
   "cell_type": "markdown",
   "id": "6134f7ed-0cba-415c-b785-48f52c60e008",
   "metadata": {},
   "source": [
    "# add"
   ]
  },
  {
   "cell_type": "code",
   "execution_count": null,
   "id": "f6637340-b513-4768-802d-ecc5da8fe667",
   "metadata": {},
   "outputs": [],
   "source": [
    "# Convert string to set"
   ]
  },
  {
   "cell_type": "code",
   "execution_count": 43,
   "id": "b6a6cb8d-6795-469e-92bf-1772bd2c60f8",
   "metadata": {},
   "outputs": [
    {
     "data": {
      "text/plain": [
       "str"
      ]
     },
     "execution_count": 43,
     "metadata": {},
     "output_type": "execute_result"
    }
   ],
   "source": [
    "a = 'malayalam'\n",
    "type(a)"
   ]
  },
  {
   "cell_type": "code",
   "execution_count": 45,
   "id": "ca45a67c-49a7-48d2-97ba-4a6dbc6695d4",
   "metadata": {},
   "outputs": [
    {
     "data": {
      "text/plain": [
       "'malayalam'"
      ]
     },
     "execution_count": 45,
     "metadata": {},
     "output_type": "execute_result"
    }
   ],
   "source": [
    "a"
   ]
  },
  {
   "cell_type": "code",
   "execution_count": 47,
   "id": "b457e862-30bc-41a1-b259-35e18331c5f7",
   "metadata": {},
   "outputs": [
    {
     "name": "stdout",
     "output_type": "stream",
     "text": [
      "{'y', 'a', 'l', 'm'}\n"
     ]
    }
   ],
   "source": [
    "#Convert string to set\n",
    "set_1 = set(a)\n",
    "print (set_1)"
   ]
  },
  {
   "cell_type": "code",
   "execution_count": 53,
   "id": "292ea498-599a-43f0-9e4d-11b01bc3db95",
   "metadata": {},
   "outputs": [],
   "source": [
    "# convert list to set\n",
    "l1 = ['x','y','z','x','x','z']"
   ]
  },
  {
   "cell_type": "code",
   "execution_count": 55,
   "id": "2d18fe6c-6e94-422b-bd7c-e9bafe1f6044",
   "metadata": {},
   "outputs": [
    {
     "data": {
      "text/plain": [
       "{'x', 'y', 'z'}"
      ]
     },
     "execution_count": 55,
     "metadata": {},
     "output_type": "execute_result"
    }
   ],
   "source": [
    "set_2 = set(l1)\n",
    "set_2"
   ]
  },
  {
   "cell_type": "code",
   "execution_count": 57,
   "id": "a905f907-38f1-46b3-91ab-98c957707ae4",
   "metadata": {},
   "outputs": [
    {
     "ename": "TypeError",
     "evalue": "'set' object is not subscriptable",
     "output_type": "error",
     "traceback": [
      "\u001b[1;31m---------------------------------------------------------------------------\u001b[0m",
      "\u001b[1;31mTypeError\u001b[0m                                 Traceback (most recent call last)",
      "Cell \u001b[1;32mIn[57], line 2\u001b[0m\n\u001b[0;32m      1\u001b[0m \u001b[38;5;66;03m# Let's try slicing on set\u001b[39;00m\n\u001b[1;32m----> 2\u001b[0m set_2[\u001b[38;5;241m2\u001b[39m]\n",
      "\u001b[1;31mTypeError\u001b[0m: 'set' object is not subscriptable"
     ]
    }
   ],
   "source": [
    "# Let's try slicing on set\n",
    "set_2[2]"
   ]
  },
  {
   "cell_type": "code",
   "execution_count": 59,
   "id": "03001c5e-3220-4af8-987e-ccb343f2a9ac",
   "metadata": {},
   "outputs": [],
   "source": [
    "roll_numbers = [1,2,3,4,5,6,3,4,5,7,8,9,10,14,24,13,13,14,16,16,34,36,37,38,67,68]"
   ]
  },
  {
   "cell_type": "code",
   "execution_count": 61,
   "id": "328a995a-020b-4daa-b38d-6dff6a16b5dd",
   "metadata": {},
   "outputs": [],
   "source": [
    "roll_numbers = set(roll_numbers)"
   ]
  },
  {
   "cell_type": "code",
   "execution_count": 63,
   "id": "30d8f8c9-45e3-4cb0-9c60-ddc3d12ce05e",
   "metadata": {},
   "outputs": [
    {
     "data": {
      "text/plain": [
       "{1, 2, 3, 4, 5, 6, 7, 8, 9, 10, 13, 14, 16, 24, 34, 36, 37, 38, 67, 68}"
      ]
     },
     "execution_count": 63,
     "metadata": {},
     "output_type": "execute_result"
    }
   ],
   "source": [
    "roll_numbers"
   ]
  },
  {
   "cell_type": "code",
   "execution_count": 65,
   "id": "c43e3f4e-fb4e-4f44-9ffa-88859cc018e7",
   "metadata": {},
   "outputs": [
    {
     "ename": "TypeError",
     "evalue": "'set' object is not subscriptable",
     "output_type": "error",
     "traceback": [
      "\u001b[1;31m---------------------------------------------------------------------------\u001b[0m",
      "\u001b[1;31mTypeError\u001b[0m                                 Traceback (most recent call last)",
      "Cell \u001b[1;32mIn[65], line 1\u001b[0m\n\u001b[1;32m----> 1\u001b[0m roll_numbers[\u001b[38;5;241m6\u001b[39m]\n",
      "\u001b[1;31mTypeError\u001b[0m: 'set' object is not subscriptable"
     ]
    }
   ],
   "source": [
    "roll_numbers[6]"
   ]
  },
  {
   "cell_type": "code",
   "execution_count": 67,
   "id": "0fbf176e-3361-45ab-95aa-29d7905340f9",
   "metadata": {},
   "outputs": [
    {
     "data": {
      "text/plain": [
       "20"
      ]
     },
     "execution_count": 67,
     "metadata": {},
     "output_type": "execute_result"
    }
   ],
   "source": [
    "# length function to find number of items in set\n",
    "len(roll_numbers)"
   ]
  },
  {
   "cell_type": "markdown",
   "id": "eb248b1e-649a-47f6-91eb-eadd5b4653eb",
   "metadata": {},
   "source": [
    "# Update"
   ]
  },
  {
   "cell_type": "code",
   "execution_count": null,
   "id": "d71ec881-049a-4dbe-82b2-96a23fe1d686",
   "metadata": {},
   "outputs": [],
   "source": [
    "# Adding set to set using update\n"
   ]
  },
  {
   "cell_type": "code",
   "execution_count": 69,
   "id": "c9dee406-6ff6-4904-9348-49c69970830f",
   "metadata": {},
   "outputs": [],
   "source": [
    "this_set = { \"banana\", \"papaya\",\"cherry\",\"apple\"}\n",
    "tropical = {\"pineapple\", \"mango\",'sapota','papaya' }"
   ]
  },
  {
   "cell_type": "code",
   "execution_count": 71,
   "id": "311fc502-08fb-4606-a16c-7437e1ec9b5a",
   "metadata": {},
   "outputs": [
    {
     "data": {
      "text/plain": [
       "{'apple', 'banana', 'cherry', 'mango', 'papaya', 'pineapple', 'sapota'}"
      ]
     },
     "execution_count": 71,
     "metadata": {},
     "output_type": "execute_result"
    }
   ],
   "source": [
    "tropical.update(this_set)\n",
    "tropical"
   ]
  },
  {
   "cell_type": "code",
   "execution_count": 73,
   "id": "97d22cc5-11b1-4155-affe-55efa8663cb4",
   "metadata": {},
   "outputs": [],
   "source": [
    "# adding list to existing set using set.update(list)\n",
    "l2 = ['kiwi','jackfruit','grapes','lemon']"
   ]
  },
  {
   "cell_type": "code",
   "execution_count": 75,
   "id": "dd7ee9de-8694-4cde-bd41-ebb26f4132f9",
   "metadata": {},
   "outputs": [
    {
     "data": {
      "text/plain": [
       "{'apple',\n",
       " 'banana',\n",
       " 'cherry',\n",
       " 'grapes',\n",
       " 'jackfruit',\n",
       " 'kiwi',\n",
       " 'lemon',\n",
       " 'mango',\n",
       " 'papaya',\n",
       " 'pineapple',\n",
       " 'sapota'}"
      ]
     },
     "execution_count": 75,
     "metadata": {},
     "output_type": "execute_result"
    }
   ],
   "source": [
    "tropical.update(l2)\n",
    "tropical"
   ]
  },
  {
   "cell_type": "markdown",
   "id": "951e29f7-640f-45f7-b5ac-afc88c6ff9d7",
   "metadata": {},
   "source": [
    "# Remove "
   ]
  },
  {
   "cell_type": "code",
   "execution_count": 77,
   "id": "f2efc507-d102-4319-88aa-9cef49a1b3e3",
   "metadata": {},
   "outputs": [
    {
     "data": {
      "text/plain": [
       "{'apple',\n",
       " 'banana',\n",
       " 'cherry',\n",
       " 'grapes',\n",
       " 'jackfruit',\n",
       " 'kiwi',\n",
       " 'mango',\n",
       " 'papaya',\n",
       " 'pineapple',\n",
       " 'sapota'}"
      ]
     },
     "execution_count": 77,
     "metadata": {},
     "output_type": "execute_result"
    }
   ],
   "source": [
    "tropical.remove('lemon')\n",
    "tropical"
   ]
  },
  {
   "cell_type": "markdown",
   "id": "000d1610-de44-477d-89dd-a386f3b56fde",
   "metadata": {},
   "source": [
    "# Discard\n",
    "Similar to 'remove', but remove gives error if 'data' don't exist in set. Discard will not through an error."
   ]
  },
  {
   "cell_type": "code",
   "execution_count": 79,
   "id": "c0e5acbb-ea92-4384-9c17-eaa719c0ee22",
   "metadata": {},
   "outputs": [
    {
     "data": {
      "text/plain": [
       "{'apple',\n",
       " 'banana',\n",
       " 'cherry',\n",
       " 'grapes',\n",
       " 'jackfruit',\n",
       " 'kiwi',\n",
       " 'mango',\n",
       " 'pineapple',\n",
       " 'sapota'}"
      ]
     },
     "execution_count": 79,
     "metadata": {},
     "output_type": "execute_result"
    }
   ],
   "source": [
    "tropical.discard('papaya')\n",
    "tropical"
   ]
  },
  {
   "cell_type": "code",
   "execution_count": 81,
   "id": "7dbf135b-585e-4bf2-80bb-b3e1aa827424",
   "metadata": {},
   "outputs": [
    {
     "ename": "KeyError",
     "evalue": "'papaya'",
     "output_type": "error",
     "traceback": [
      "\u001b[1;31m---------------------------------------------------------------------------\u001b[0m",
      "\u001b[1;31mKeyError\u001b[0m                                  Traceback (most recent call last)",
      "Cell \u001b[1;32mIn[81], line 1\u001b[0m\n\u001b[1;32m----> 1\u001b[0m tropical\u001b[38;5;241m.\u001b[39mremove(\u001b[38;5;124m'\u001b[39m\u001b[38;5;124mpapaya\u001b[39m\u001b[38;5;124m'\u001b[39m)\n",
      "\u001b[1;31mKeyError\u001b[0m: 'papaya'"
     ]
    }
   ],
   "source": [
    "tropical.remove('papaya')"
   ]
  },
  {
   "cell_type": "code",
   "execution_count": 83,
   "id": "889ffab1-0fe4-4a93-95eb-a67b200b65ed",
   "metadata": {},
   "outputs": [],
   "source": [
    "tropical.discard('papaya')"
   ]
  },
  {
   "cell_type": "code",
   "execution_count": 85,
   "id": "087048d3-ad88-49fe-9e5a-c3203cd51bb2",
   "metadata": {},
   "outputs": [
    {
     "data": {
      "text/plain": [
       "{'apple',\n",
       " 'banana',\n",
       " 'cherry',\n",
       " 'grapes',\n",
       " 'jackfruit',\n",
       " 'kiwi',\n",
       " 'mango',\n",
       " 'pineapple',\n",
       " 'sapota'}"
      ]
     },
     "execution_count": 85,
     "metadata": {},
     "output_type": "execute_result"
    }
   ],
   "source": [
    "tropical"
   ]
  },
  {
   "cell_type": "markdown",
   "id": "7e861678-ee36-49fa-8f69-e20b614b9485",
   "metadata": {},
   "source": [
    "# pop\n",
    "Similar to pop in list, but in set we do not know which item will get deleted as it is unordered"
   ]
  },
  {
   "cell_type": "code",
   "execution_count": 87,
   "id": "bbb54361-e401-47f2-80db-146675490aa5",
   "metadata": {},
   "outputs": [
    {
     "data": {
      "text/plain": [
       "'grapes'"
      ]
     },
     "execution_count": 87,
     "metadata": {},
     "output_type": "execute_result"
    }
   ],
   "source": [
    "tropical.pop()"
   ]
  },
  {
   "cell_type": "markdown",
   "id": "bf012d06-c430-4cb1-bd3c-e60a161943f7",
   "metadata": {},
   "source": [
    "# copy"
   ]
  },
  {
   "cell_type": "code",
   "execution_count": 89,
   "id": "de254160-fc30-4ddf-8dc6-5cb4528aeddb",
   "metadata": {},
   "outputs": [
    {
     "data": {
      "text/plain": [
       "{'apple',\n",
       " 'banana',\n",
       " 'cherry',\n",
       " 'jackfruit',\n",
       " 'kiwi',\n",
       " 'mango',\n",
       " 'pineapple',\n",
       " 'sapota'}"
      ]
     },
     "execution_count": 89,
     "metadata": {},
     "output_type": "execute_result"
    }
   ],
   "source": [
    "tropical_copy = tropical.copy()\n",
    "tropical_copy"
   ]
  },
  {
   "cell_type": "markdown",
   "id": "f3cbba50-3d98-4d59-ac3b-24a36f8ef9d4",
   "metadata": {},
   "source": [
    "# Clear"
   ]
  },
  {
   "cell_type": "code",
   "execution_count": 91,
   "id": "815402f9-7608-4a34-b2c9-188a55dc64f5",
   "metadata": {},
   "outputs": [
    {
     "data": {
      "text/plain": [
       "set()"
      ]
     },
     "execution_count": 91,
     "metadata": {},
     "output_type": "execute_result"
    }
   ],
   "source": [
    "tropical.clear()\n",
    "tropical"
   ]
  },
  {
   "cell_type": "markdown",
   "id": "abdce26a-6013-4cdf-8141-fc79a5e629af",
   "metadata": {},
   "source": [
    "# add"
   ]
  },
  {
   "cell_type": "code",
   "execution_count": 94,
   "id": "4c619f20-0e48-4953-a0b5-46c57fdcf82e",
   "metadata": {},
   "outputs": [
    {
     "data": {
      "text/plain": [
       "set"
      ]
     },
     "execution_count": 94,
     "metadata": {},
     "output_type": "execute_result"
    }
   ],
   "source": [
    "set_new = set()\n",
    "type(set_new)"
   ]
  },
  {
   "cell_type": "code",
   "execution_count": 96,
   "id": "b387898d-f97a-44c6-ad1d-ca29c25207fa",
   "metadata": {},
   "outputs": [
    {
     "data": {
      "text/plain": [
       "{100}"
      ]
     },
     "execution_count": 96,
     "metadata": {},
     "output_type": "execute_result"
    }
   ],
   "source": [
    "set_new.add(100)\n",
    "set_new"
   ]
  },
  {
   "cell_type": "code",
   "execution_count": 98,
   "id": "c781310f-44bb-41e7-b195-9730b2781cff",
   "metadata": {},
   "outputs": [
    {
     "data": {
      "text/plain": [
       "{100, 101}"
      ]
     },
     "execution_count": 98,
     "metadata": {},
     "output_type": "execute_result"
    }
   ],
   "source": [
    "set_new.add(101)\n",
    "set_new"
   ]
  },
  {
   "cell_type": "code",
   "execution_count": 100,
   "id": "71640f6e-c2ea-47bb-be51-2e20c9c567d0",
   "metadata": {},
   "outputs": [
    {
     "data": {
      "text/plain": [
       "{100, 101}"
      ]
     },
     "execution_count": 100,
     "metadata": {},
     "output_type": "execute_result"
    }
   ],
   "source": [
    "set_new.add(100)\n",
    "set_new"
   ]
  },
  {
   "cell_type": "markdown",
   "id": "ccf40e2f-963e-4e37-9eb2-23433c4c8de6",
   "metadata": {},
   "source": [
    "# union\n",
    "Very much similar to update"
   ]
  },
  {
   "cell_type": "code",
   "execution_count": 102,
   "id": "9680259b-0b9d-42f9-acfa-6d170eb17090",
   "metadata": {},
   "outputs": [],
   "source": [
    "this_set = { \"banana\", \"papaya\",\"cherry\",\"apple\"}\n",
    "tropical = {\"pineapple\", \"mango\",'sapota','papaya' }\n"
   ]
  },
  {
   "cell_type": "code",
   "execution_count": 104,
   "id": "c7393120-9b04-4a05-88bb-20595ffaaf31",
   "metadata": {},
   "outputs": [
    {
     "data": {
      "text/plain": [
       "{'mango', 'papaya', 'pineapple', 'sapota'}"
      ]
     },
     "execution_count": 104,
     "metadata": {},
     "output_type": "execute_result"
    }
   ],
   "source": [
    "tropical.union(this_set)\n",
    "tropical"
   ]
  },
  {
   "cell_type": "code",
   "execution_count": 108,
   "id": "2c1bf9f3-0692-426b-a343-2630574442fb",
   "metadata": {},
   "outputs": [
    {
     "data": {
      "text/plain": [
       "{'apple', 'banana', 'cherry', 'mango', 'papaya', 'pineapple', 'sapota'}"
      ]
     },
     "execution_count": 108,
     "metadata": {},
     "output_type": "execute_result"
    }
   ],
   "source": [
    "new_fruit_set = tropical.union(this_set)\n",
    "new_fruit_set"
   ]
  },
  {
   "cell_type": "markdown",
   "id": "8d6ad852-6d61-42bb-b0f0-627974b21a88",
   "metadata": {},
   "source": [
    "Difference b/w union and update. Update will update the left hand side set by adding right hand side set elements. \n",
    "In union, it doesn't happen. Result of union needs to be stored in new set."
   ]
  },
  {
   "cell_type": "markdown",
   "id": "0c2d45b9-ff79-44cc-a0c0-2c1268609865",
   "metadata": {},
   "source": [
    "# difference\n"
   ]
  },
  {
   "cell_type": "code",
   "execution_count": 110,
   "id": "47c8384f-81d2-4351-a0ad-db1dad9542bb",
   "metadata": {},
   "outputs": [],
   "source": [
    "a = set([1,2,3,4,5])\n",
    "b = set([4,5,6,7,8])\n"
   ]
  },
  {
   "cell_type": "code",
   "execution_count": 112,
   "id": "617d2955-e1f5-4596-b3ca-dbcece1df071",
   "metadata": {},
   "outputs": [
    {
     "data": {
      "text/plain": [
       "{1, 2, 3}"
      ]
     },
     "execution_count": 112,
     "metadata": {},
     "output_type": "execute_result"
    }
   ],
   "source": [
    "c = a.difference(b)\n",
    "c"
   ]
  },
  {
   "cell_type": "code",
   "execution_count": 114,
   "id": "c06446d9-8ef5-4b22-a9b5-a77945e64f9f",
   "metadata": {},
   "outputs": [
    {
     "data": {
      "text/plain": [
       "{6, 7, 8}"
      ]
     },
     "execution_count": 114,
     "metadata": {},
     "output_type": "execute_result"
    }
   ],
   "source": [
    "d = b.difference(a)\n",
    "d"
   ]
  },
  {
   "cell_type": "code",
   "execution_count": 116,
   "id": "c73264da-6680-4cff-b203-9d04703b6028",
   "metadata": {},
   "outputs": [
    {
     "data": {
      "text/plain": [
       "{1, 2, 3, 4, 5, 6, 7, 8}"
      ]
     },
     "execution_count": 116,
     "metadata": {},
     "output_type": "execute_result"
    }
   ],
   "source": [
    "a.update(b)\n",
    "a"
   ]
  },
  {
   "cell_type": "code",
   "execution_count": null,
   "id": "5290ec29-28d9-4435-b0ef-4b1fec7b17b6",
   "metadata": {},
   "outputs": [],
   "source": []
  },
  {
   "cell_type": "markdown",
   "id": "ba7f3a54-799a-4616-ada5-15ef449a5082",
   "metadata": {},
   "source": [
    "### Please refer other notes for few more functions related to set. Any doubts please let us know."
   ]
  },
  {
   "cell_type": "code",
   "execution_count": null,
   "id": "f23c9d57-499e-491c-bbe6-75f4b556f643",
   "metadata": {},
   "outputs": [],
   "source": []
  }
 ],
 "metadata": {
  "kernelspec": {
   "display_name": "Python [conda env:base] *",
   "language": "python",
   "name": "conda-base-py"
  },
  "language_info": {
   "codemirror_mode": {
    "name": "ipython",
    "version": 3
   },
   "file_extension": ".py",
   "mimetype": "text/x-python",
   "name": "python",
   "nbconvert_exporter": "python",
   "pygments_lexer": "ipython3",
   "version": "3.12.7"
  }
 },
 "nbformat": 4,
 "nbformat_minor": 5
}
