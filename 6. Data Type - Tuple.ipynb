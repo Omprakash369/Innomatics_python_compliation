{
 "cells": [
  {
   "cell_type": "markdown",
   "metadata": {
    "id": "BJ8ijk83eLAp"
   },
   "source": [
    "---\n",
    "---\n",
    "# Table of contents\n",
    "\n",
    "---\n",
    "\n",
    "## TUPLE\n",
    "1. What is tuple?\n",
    "2. Access Tuple Items\n",
    "3. tuple indexing\n",
    "4. updating tuples\n",
    "5. Unpacking a Tuple\n",
    "6. Join tuples\n",
    "7. Tuple Methods\n",
    "\n",
    "---\n",
    "---\n"
   ]
  },
  {
   "cell_type": "markdown",
   "metadata": {
    "id": "dwZIiZggXySY"
   },
   "source": [
    "# 1. what is tuple?\n",
    "* Tuples are sequenstial, indexable hetrogeneous containers which are immutable in nature\n",
    "* `( )` are used to represent a tuple, tuple can never be empty, it takes atleast 2 values\n",
    "* a tuple with one element can be created using `,` and passing no second element\n",
    "* there are two methods we can perform on tuple\n",
    "\n",
    "    * count: gives the frequency of given element\n",
    "    * index: gives the index of first occurence of given element\n",
    "\n",
    "* we can use tuple to unpack\n",
    "* tuple are faster when compared to list"
   ]
  },
  {
   "cell_type": "code",
   "execution_count": null,
   "metadata": {
    "id": "0qr56TZVe9ru"
   },
   "outputs": [],
   "source": [
    "mytuple = (\"apple\", \"banana\", \"cherry\")"
   ]
  },
  {
   "cell_type": "code",
   "execution_count": null,
   "metadata": {
    "colab": {
     "base_uri": "https://localhost:8080/"
    },
    "executionInfo": {
     "elapsed": 6,
     "status": "ok",
     "timestamp": 1687762520951,
     "user": {
      "displayName": "Meher Fatima",
      "userId": "08349742051843001487"
     },
     "user_tz": 420
    },
    "id": "xZrg_ieJfBub",
    "outputId": "8b9a9e07-0ac0-4f12-ab3d-38f804b94c21"
   },
   "outputs": [
    {
     "name": "stdout",
     "output_type": "stream",
     "text": [
      "('apple', 'banana', 'cherry')\n"
     ]
    }
   ],
   "source": [
    "thistuple = (\"apple\", \"banana\", \"cherry\")\n",
    "print(thistuple)"
   ]
  },
  {
   "cell_type": "markdown",
   "metadata": {
    "id": "m52eabzoesiC"
   },
   "source": [
    "## Tuple Items\n",
    "Tuple items are ordered, unchangeable, and allow duplicate values.\n",
    "<br>\n",
    "Tuple items are indexed, the first item has index [0], the second item has index [1] etc.\n",
    "\n",
    "## Ordered\n",
    "When we say that tuples are ordered, it means that the items have a defined order, and that order will not change.\n",
    "## Unchangeable\n",
    "Tuples are unchangeable, meaning that we cannot change, add or remove items after the tuple has been created.\n",
    "\n",
    "## Allow Duplicates\n",
    "Since tuples are indexed, they can have items with the same value"
   ]
  },
  {
   "cell_type": "code",
   "execution_count": null,
   "metadata": {
    "colab": {
     "base_uri": "https://localhost:8080/"
    },
    "executionInfo": {
     "elapsed": 3,
     "status": "ok",
     "timestamp": 1687762544813,
     "user": {
      "displayName": "Meher Fatima",
      "userId": "08349742051843001487"
     },
     "user_tz": 420
    },
    "id": "ObIuGHK5fJMe",
    "outputId": "400b4222-f5db-4458-a7ef-558c63166eb7"
   },
   "outputs": [
    {
     "name": "stdout",
     "output_type": "stream",
     "text": [
      "('apple', 'banana', 'cherry', 'apple', 'cherry')\n"
     ]
    }
   ],
   "source": [
    "#Tuples allow duplicate values:\n",
    "\n",
    "thistuple = (\"apple\", \"banana\", \"cherry\", \"apple\", \"cherry\")\n",
    "print(thistuple)"
   ]
  },
  {
   "cell_type": "markdown",
   "metadata": {
    "id": "1UhFFRw1fSd9"
   },
   "source": [
    "# 2. Access Tuple Items\n",
    "You can access tuple items by referring to the index number, inside square brackets"
   ]
  },
  {
   "cell_type": "code",
   "execution_count": null,
   "metadata": {
    "colab": {
     "base_uri": "https://localhost:8080/"
    },
    "executionInfo": {
     "elapsed": 3,
     "status": "ok",
     "timestamp": 1687762595884,
     "user": {
      "displayName": "Meher Fatima",
      "userId": "08349742051843001487"
     },
     "user_tz": 420
    },
    "id": "eH41vZj9fVGV",
    "outputId": "0d1b0f47-80d8-423c-bd71-e1dfbbc988c9"
   },
   "outputs": [
    {
     "name": "stdout",
     "output_type": "stream",
     "text": [
      "banana\n"
     ]
    }
   ],
   "source": [
    "thistuple = (\"apple\", \"banana\", \"cherry\")\n",
    "print(thistuple[1])"
   ]
  },
  {
   "cell_type": "markdown",
   "metadata": {
    "id": "CvR2lYTPfdxh"
   },
   "source": [
    "# 3. tuple indexing\n",
    "## Range of Indexes\n",
    "You can specify a range of indexes by specifying where to start and where to end the range.\n",
    "\n",
    "When specifying a range, the return value will be a new tuple with the specified items.\n",
    "\n",
    "###  Negative Indexing\n",
    "Negative indexing means start from the end.\n",
    "<br>\n",
    "-1 refers to the last item, -2 refers to the second last item etc."
   ]
  },
  {
   "cell_type": "code",
   "execution_count": null,
   "metadata": {
    "colab": {
     "base_uri": "https://localhost:8080/"
    },
    "executionInfo": {
     "elapsed": 7,
     "status": "ok",
     "timestamp": 1687762737001,
     "user": {
      "displayName": "Meher Fatima",
      "userId": "08349742051843001487"
     },
     "user_tz": 420
    },
    "id": "o-jYWyDcf4rY",
    "outputId": "434ac51c-6f92-438d-98b9-0c296ca6069e"
   },
   "outputs": [
    {
     "name": "stdout",
     "output_type": "stream",
     "text": [
      "('cherry', 'orange', 'kiwi')\n"
     ]
    }
   ],
   "source": [
    "thistuple = (\"apple\", \"banana\", \"cherry\", \"orange\", \"kiwi\", \"melon\", \"mango\")\n",
    "print(thistuple[2:5])"
   ]
  },
  {
   "cell_type": "code",
   "execution_count": null,
   "metadata": {
    "id": "EWVkKXB0fhWK"
   },
   "outputs": [],
   "source": [
    "thistuple = (\"apple\", \"banana\", \"cherry\")\n",
    "print(thistuple[-1])"
   ]
  },
  {
   "cell_type": "markdown",
   "metadata": {
    "id": "R93IJT5hf-K8"
   },
   "source": [
    "# 4. Update tuples\n",
    "\n",
    "## Change Tuple Values\n",
    "Once a tuple is created, you cannot change its values. Tuples are unchangeable, or immutable as it also is called.\n",
    "\n",
    "But there is a workaround. You can convert the tuple into a list, change the list, and convert the list back into a tuple.\n",
    "\n",
    "## Remove Items\n",
    "Tuples are unchangeable, so you cannot remove items from it, but you can use the same workaround as we used for changing and adding tuple items"
   ]
  },
  {
   "cell_type": "code",
   "execution_count": null,
   "metadata": {
    "colab": {
     "base_uri": "https://localhost:8080/"
    },
    "executionInfo": {
     "elapsed": 4,
     "status": "ok",
     "timestamp": 1687762799404,
     "user": {
      "displayName": "Meher Fatima",
      "userId": "08349742051843001487"
     },
     "user_tz": 420
    },
    "id": "gcvnUMKTgFde",
    "outputId": "86708916-9063-4381-c0ec-86ab4822bee5"
   },
   "outputs": [
    {
     "name": "stdout",
     "output_type": "stream",
     "text": [
      "('apple', 'kiwi', 'cherry')\n"
     ]
    }
   ],
   "source": [
    "x = (\"apple\", \"banana\", \"cherry\")\n",
    "y = list(x)\n",
    "y[1] = \"kiwi\"\n",
    "x = tuple(y)\n",
    "\n",
    "print(x)"
   ]
  },
  {
   "cell_type": "code",
   "execution_count": null,
   "metadata": {
    "id": "HEytjslqh8vT"
   },
   "outputs": [],
   "source": [
    "thistuple = (\"apple\", \"banana\", \"cherry\")\n",
    "y = list(thistuple)\n",
    "y.remove(\"apple\")\n",
    "thistuple = tuple(y)"
   ]
  },
  {
   "cell_type": "markdown",
   "metadata": {
    "id": "2eTW48dVg05z"
   },
   "source": [
    "# 5. Unpacking a Tuple\n",
    "When we create a tuple, we normally assign values to it. This is called \"packing\" a tuple\n"
   ]
  },
  {
   "cell_type": "code",
   "execution_count": null,
   "metadata": {
    "colab": {
     "base_uri": "https://localhost:8080/"
    },
    "executionInfo": {
     "elapsed": 4,
     "status": "ok",
     "timestamp": 1687763027956,
     "user": {
      "displayName": "Meher Fatima",
      "userId": "08349742051843001487"
     },
     "user_tz": 420
    },
    "id": "B8H5wLPBg_z3",
    "outputId": "3d40cc71-3545-45b1-de83-32caf2131fc3"
   },
   "outputs": [
    {
     "name": "stdout",
     "output_type": "stream",
     "text": [
      "apple\n",
      "banana\n",
      "cherry\n"
     ]
    }
   ],
   "source": [
    "fruits = (\"apple\", \"banana\", \"cherry\")\n",
    "\n",
    "(green, yellow, red) = fruits\n",
    "\n",
    "print(green)\n",
    "print(yellow)\n",
    "print(red)"
   ]
  },
  {
   "cell_type": "markdown",
   "metadata": {
    "id": "ZOaIZ0s4hTPh"
   },
   "source": [
    "#6. Join Tuples\n",
    "Join Two Tuples\n",
    "To join two or more tuples you can use the + operator"
   ]
  },
  {
   "cell_type": "code",
   "execution_count": null,
   "metadata": {
    "colab": {
     "base_uri": "https://localhost:8080/"
    },
    "executionInfo": {
     "elapsed": 5,
     "status": "ok",
     "timestamp": 1687763128862,
     "user": {
      "displayName": "Meher Fatima",
      "userId": "08349742051843001487"
     },
     "user_tz": 420
    },
    "id": "AT-LvM3GhVtV",
    "outputId": "dc5506cd-fa39-42fc-9236-854ae5f396e5"
   },
   "outputs": [
    {
     "name": "stdout",
     "output_type": "stream",
     "text": [
      "('a', 'b', 'c', 1, 2, 3)\n"
     ]
    }
   ],
   "source": [
    "tuple1 = (\"a\", \"b\" , \"c\")\n",
    "tuple2 = (1, 2, 3)\n",
    "\n",
    "tuple3 = tuple1 + tuple2\n",
    "print(tuple3)"
   ]
  },
  {
   "cell_type": "markdown",
   "metadata": {
    "id": "EFn0SnrVhn1y"
   },
   "source": [
    "# 7. Tuple Methods\n",
    "\n",
    "- count():\tReturns the number of times a specified value occurs in a tuple\n",
    "- index():\tSearches the tuple for a specified value and returns the position of where it was found\n"
   ]
  },
  {
   "cell_type": "code",
   "execution_count": null,
   "metadata": {
    "colab": {
     "base_uri": "https://localhost:8080/"
    },
    "executionInfo": {
     "elapsed": 7,
     "status": "ok",
     "timestamp": 1687763375495,
     "user": {
      "displayName": "Meher Fatima",
      "userId": "08349742051843001487"
     },
     "user_tz": 420
    },
    "id": "pAsI9LKGgvte",
    "outputId": "97c0934f-1e8d-402a-8f2a-bc7b9a8e0912"
   },
   "outputs": [
    {
     "name": "stdout",
     "output_type": "stream",
     "text": [
      "2\n",
      "0\n"
     ]
    }
   ],
   "source": [
    "x = (1,2,3, print, str, True)\n",
    "print(x.count(1))\n",
    "print(x.index(1))"
   ]
  },
  {
   "cell_type": "markdown",
   "metadata": {
    "id": "TQ3xJ_JBiXMw"
   },
   "source": [
    "## Example programs"
   ]
  },
  {
   "cell_type": "code",
   "execution_count": null,
   "metadata": {
    "colab": {
     "base_uri": "https://localhost:8080/"
    },
    "executionInfo": {
     "elapsed": 395,
     "status": "ok",
     "timestamp": 1687763395753,
     "user": {
      "displayName": "Meher Fatima",
      "userId": "08349742051843001487"
     },
     "user_tz": 420
    },
    "id": "ceMk29joXi3G",
    "outputId": "8bc4cc78-5bc5-4f7a-d22f-e19b90aa5ba6"
   },
   "outputs": [
    {
     "name": "stdout",
     "output_type": "stream",
     "text": [
      "(1, 2, 3, <built-in function print>, <class 'str'>, True)\n",
      "6\n",
      "<class 'tuple'>\n"
     ]
    }
   ],
   "source": [
    "x = (1,2,3, print, str, True)\n",
    "print(x, len(x), type(x), sep = '\\n')"
   ]
  },
  {
   "cell_type": "code",
   "execution_count": null,
   "metadata": {
    "colab": {
     "base_uri": "https://localhost:8080/"
    },
    "executionInfo": {
     "elapsed": 3,
     "status": "ok",
     "timestamp": 1687763396103,
     "user": {
      "displayName": "Meher Fatima",
      "userId": "08349742051843001487"
     },
     "user_tz": 420
    },
    "id": "XvMX-k5YXuGj",
    "outputId": "1078c43d-73ed-4ae5-8314-d1719b47c88f"
   },
   "outputs": [
    {
     "name": "stdout",
     "output_type": "stream",
     "text": [
      "1\n",
      "True\n",
      "(1, 2, 3)\n",
      "(<built-in function print>, <class 'str'>, True)\n"
     ]
    }
   ],
   "source": [
    "print(x[0], x[-1], sep = '\\n')\n",
    "print(x[:3], x[-3:], sep = '\\n')"
   ]
  },
  {
   "cell_type": "code",
   "execution_count": null,
   "metadata": {
    "colab": {
     "base_uri": "https://localhost:8080/"
    },
    "executionInfo": {
     "elapsed": 7,
     "status": "ok",
     "timestamp": 1687763396573,
     "user": {
      "displayName": "Meher Fatima",
      "userId": "08349742051843001487"
     },
     "user_tz": 420
    },
    "id": "XWm49p_mXuCq",
    "outputId": "55474c77-d3a1-40a5-b6fb-ec9615f1c861"
   },
   "outputs": [
    {
     "name": "stdout",
     "output_type": "stream",
     "text": [
      "False\n",
      "True\n"
     ]
    }
   ],
   "source": [
    "print(0 in x, int not in x,  sep = '\\n')"
   ]
  },
  {
   "cell_type": "code",
   "execution_count": null,
   "metadata": {
    "colab": {
     "base_uri": "https://localhost:8080/"
    },
    "executionInfo": {
     "elapsed": 3,
     "status": "ok",
     "timestamp": 1687763397133,
     "user": {
      "displayName": "Meher Fatima",
      "userId": "08349742051843001487"
     },
     "user_tz": 420
    },
    "id": "GH4ou1lbXt_R",
    "outputId": "d51f5347-9a94-47f7-967d-4631828e699d"
   },
   "outputs": [
    {
     "name": "stdout",
     "output_type": "stream",
     "text": [
      "[]\n",
      "0\n",
      "<class 'list'>\n",
      "\n",
      "()\n",
      "0\n",
      "<class 'tuple'>\n",
      "\n",
      "(1,)\n",
      "1\n",
      "<class 'tuple'>\n",
      "\n"
     ]
    }
   ],
   "source": [
    "# creating an empty tuple and trying to create a tuple with one element\n",
    "x = []\n",
    "print(x, len(x), type(x), sep = '\\n')\n",
    "print()\n",
    "x = ()\n",
    "print(x, len(x), type(x), sep = '\\n')\n",
    "print()\n",
    "\n",
    "x = (1)\n",
    "#print(x, len(x), type(x), sep = '\\n')\n",
    "\n",
    "x = (1,)\n",
    "print(x, len(x), type(x), sep = '\\n')\n",
    "print()"
   ]
  },
  {
   "cell_type": "code",
   "execution_count": null,
   "metadata": {
    "colab": {
     "base_uri": "https://localhost:8080/"
    },
    "executionInfo": {
     "elapsed": 11,
     "status": "ok",
     "timestamp": 1687763397640,
     "user": {
      "displayName": "Meher Fatima",
      "userId": "08349742051843001487"
     },
     "user_tz": 420
    },
    "id": "hGwJyDLMXt86",
    "outputId": "8205a88f-8494-404f-d3a0-f480b80c47f7"
   },
   "outputs": [
    {
     "name": "stdout",
     "output_type": "stream",
     "text": [
      "(1, 2, 3)  3  <class 'tuple'>\n",
      "\n",
      "('g', 'e', 'n', 'e', 'r', 'i', 'c', ' ', 's', 't', 'r', 'i', 'n', 'g')  14  <class 'tuple'>\n",
      "\n"
     ]
    }
   ],
   "source": [
    "# type-casting\n",
    "a = [1,2,3]\n",
    "x = tuple(a)\n",
    "print(x, len(x), type(x), sep = '  ')\n",
    "print()\n",
    "\n",
    "a = 'generic string'\n",
    "x = tuple(a)\n",
    "print(x, len(x), type(x), sep = '  ')\n",
    "print()"
   ]
  },
  {
   "cell_type": "code",
   "execution_count": null,
   "metadata": {
    "colab": {
     "base_uri": "https://localhost:8080/"
    },
    "executionInfo": {
     "elapsed": 3,
     "status": "ok",
     "timestamp": 1687763398487,
     "user": {
      "displayName": "Meher Fatima",
      "userId": "08349742051843001487"
     },
     "user_tz": 420
    },
    "id": "bzIqFaK-Xt2U",
    "outputId": "37747fbb-931b-4a2e-e134-868e989796bc"
   },
   "outputs": [
    {
     "name": "stdout",
     "output_type": "stream",
     "text": [
      "2\n",
      "1\n",
      "\n",
      "0\n"
     ]
    }
   ],
   "source": [
    "# methods in tuple: count & index\n",
    "print(x.count('e'), x.index('e'), sep = '\\n')\n",
    "print()\n",
    "print(x.count('zz'))\n",
    "#print(x.index('zz')) # uncomment to see the error"
   ]
  },
  {
   "cell_type": "code",
   "execution_count": null,
   "metadata": {
    "colab": {
     "base_uri": "https://localhost:8080/"
    },
    "executionInfo": {
     "elapsed": 10,
     "status": "ok",
     "timestamp": 1687763399065,
     "user": {
      "displayName": "Meher Fatima",
      "userId": "08349742051843001487"
     },
     "user_tz": 420
    },
    "id": "FmzhoSBiXtzw",
    "outputId": "76c0bb66-974e-48f4-fb43-8c63edb28027"
   },
   "outputs": [
    {
     "name": "stdout",
     "output_type": "stream",
     "text": [
      "1  2\n",
      "\n",
      "z  y  x\n",
      "\n",
      "1  2\n"
     ]
    }
   ],
   "source": [
    "# unpacking\n",
    "a,b = (1,2)\n",
    "print(a,b, sep = '  ')\n",
    "print()\n",
    "a,b,c = 'zyx'\n",
    "print(a,b,c, sep = '  ')\n",
    "print()\n",
    "a,b = [1,2] # upack\n",
    "print(a,b, sep = '  ')"
   ]
  },
  {
   "cell_type": "code",
   "execution_count": null,
   "metadata": {
    "colab": {
     "base_uri": "https://localhost:8080/",
     "height": 182
    },
    "executionInfo": {
     "elapsed": 6,
     "status": "error",
     "timestamp": 1687763400085,
     "user": {
      "displayName": "Meher Fatima",
      "userId": "08349742051843001487"
     },
     "user_tz": 420
    },
    "id": "Is5ViEI_XtvU",
    "outputId": "2657c350-6dca-41f1-8027-90a8071d6e5b"
   },
   "outputs": [
    {
     "ename": "ValueError",
     "evalue": "ignored",
     "output_type": "error",
     "traceback": [
      "\u001b[0;31m---------------------------------------------------------------------------\u001b[0m",
      "\u001b[0;31mValueError\u001b[0m                                Traceback (most recent call last)",
      "\u001b[0;32m<ipython-input-20-904c69f23ba3>\u001b[0m in \u001b[0;36m<cell line: 1>\u001b[0;34m()\u001b[0m\n\u001b[0;32m----> 1\u001b[0;31m \u001b[0ma\u001b[0m\u001b[0;34m,\u001b[0m \u001b[0mb\u001b[0m \u001b[0;34m=\u001b[0m \u001b[0;34m(\u001b[0m\u001b[0;36m1\u001b[0m\u001b[0;34m,\u001b[0m\u001b[0;36m2\u001b[0m\u001b[0;34m,\u001b[0m\u001b[0;36m3\u001b[0m\u001b[0;34m)\u001b[0m\u001b[0;34m\u001b[0m\u001b[0;34m\u001b[0m\u001b[0m\n\u001b[0m\u001b[1;32m      2\u001b[0m \u001b[0mprint\u001b[0m\u001b[0;34m(\u001b[0m\u001b[0ma\u001b[0m\u001b[0;34m,\u001b[0m \u001b[0mb\u001b[0m\u001b[0;34m)\u001b[0m\u001b[0;34m\u001b[0m\u001b[0;34m\u001b[0m\u001b[0m\n",
      "\u001b[0;31mValueError\u001b[0m: too many values to unpack (expected 2)"
     ]
    }
   ],
   "source": [
    "a, b = (1,2,3)\n",
    "print(a, b)"
   ]
  },
  {
   "cell_type": "code",
   "execution_count": null,
   "metadata": {
    "id": "OPIF0TtiibEA"
   },
   "outputs": [],
   "source": []
  }
 ],
 "metadata": {
  "colab": {
   "provenance": []
  },
  "kernelspec": {
   "display_name": "Python [conda env:base] *",
   "language": "python",
   "name": "conda-base-py"
  },
  "language_info": {
   "codemirror_mode": {
    "name": "ipython",
    "version": 3
   },
   "file_extension": ".py",
   "mimetype": "text/x-python",
   "name": "python",
   "nbconvert_exporter": "python",
   "pygments_lexer": "ipython3",
   "version": "3.12.7"
  }
 },
 "nbformat": 4,
 "nbformat_minor": 4
}
