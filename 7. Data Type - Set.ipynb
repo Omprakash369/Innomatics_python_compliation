{
 "cells": [
  {
   "cell_type": "markdown",
   "metadata": {
    "id": "vb3REYxGTPm_"
   },
   "source": [
    "\n",
    "\n",
    "---\n",
    "\n",
    "\n",
    "\n",
    "---\n",
    "\n",
    "\n",
    "# Table of contents\n",
    "\n",
    "---\n",
    "\n",
    "\n",
    "## SETS\n",
    "\n",
    "1. What is set?\n",
    "2. set items\n",
    "3. Adding and removing elements in set\n",
    "4. set methods\n",
    "\n",
    "\n",
    "\n",
    "\n",
    "\n",
    "---\n",
    "\n",
    "\n",
    "\n",
    "---\n",
    "\n"
   ]
  },
  {
   "cell_type": "markdown",
   "metadata": {
    "id": "1d5vexqFTjMK"
   },
   "source": [
    "# 1. What is set?\n",
    "# Set:\n",
    ">- Sets are used to store multiple items in a single variable.\n",
    ">- A set is a collection which is unordered, unchangeable*, and unindexed.\n",
    "\n",
    "```Note: Set items are unchangeable, but you can remove items and add new items.```\n",
    ">- Sets are written with curly brackets.```{}```\n",
    "\n",
    "```python\n",
    "#Create a Set:\n",
    "this_set = {\"apple\", \"banana\", \"cherry\"}\n",
    "print(this_set)\n",
    "```\n",
    "\n",
    "```Note: Sets are unordered, so you cannot be sure in which order the items will appear.```"
   ]
  },
  {
   "cell_type": "code",
   "execution_count": null,
   "metadata": {
    "id": "t_kwQoJMNugo"
   },
   "outputs": [],
   "source": []
  },
  {
   "cell_type": "markdown",
   "metadata": {
    "id": "KfJZFMd3sBO6"
   },
   "source": [
    "#### creating a set"
   ]
  },
  {
   "cell_type": "code",
   "execution_count": 1,
   "metadata": {
    "colab": {
     "base_uri": "https://localhost:8080/"
    },
    "executionInfo": {
     "elapsed": 4,
     "status": "ok",
     "timestamp": 1687523481417,
     "user": {
      "displayName": "Meher Fatima",
      "userId": "08349742051843001487"
     },
     "user_tz": 420
    },
    "id": "GFk1UNnzsDH6",
    "outputId": "dbacc72e-6755-4b70-b2ff-7bcea4354f7f"
   },
   "outputs": [
    {
     "name": "stdout",
     "output_type": "stream",
     "text": [
      "{1, 2.5, 'three', <built-in function print>, <class 'int'>}\n",
      "5\n",
      "<class 'set'>\n"
     ]
    }
   ],
   "source": [
    "x = {1,2.5,'three',print, int}\n",
    "print(x, len(x), type(x), sep = '\\n')"
   ]
  },
  {
   "cell_type": "code",
   "execution_count": null,
   "metadata": {
    "colab": {
     "base_uri": "https://localhost:8080/"
    },
    "executionInfo": {
     "elapsed": 11,
     "status": "ok",
     "timestamp": 1687523482003,
     "user": {
      "displayName": "Meher Fatima",
      "userId": "08349742051843001487"
     },
     "user_tz": 420
    },
    "id": "cUnYLaFBsVhA",
    "outputId": "346ca9e9-b73b-4452-e6bb-5137c75c4397"
   },
   "outputs": [],
   "source": [
    "# set can't have duplicate elements\n",
    "# type casting\n",
    "a = 'malayalam'\n",
    "print(a, len(a), type(a), sep = '  ')\n",
    "x = set(a)\n",
    "print(x, len(x), type(x), sep = '  ')"
   ]
  },
  {
   "cell_type": "code",
   "execution_count": null,
   "metadata": {
    "colab": {
     "base_uri": "https://localhost:8080/"
    },
    "executionInfo": {
     "elapsed": 9,
     "status": "ok",
     "timestamp": 1687523482003,
     "user": {
      "displayName": "Meher Fatima",
      "userId": "08349742051843001487"
     },
     "user_tz": 420
    },
    "id": "U8t3sXo7tNPq",
    "outputId": "c046b5fc-edb5-43cc-9724-1a137f71ede1"
   },
   "outputs": [],
   "source": [
    "x = {}\n",
    "print(x, len(x), type(x), sep = '\\n')\n",
    "x = set()\n",
    "print(x, len(x), type(x), sep = '\\n')\n",
    "x = {1}\n",
    "print(x, len(x), type(x), sep = '\\n')"
   ]
  },
  {
   "cell_type": "code",
   "execution_count": 3,
   "metadata": {
    "colab": {
     "base_uri": "https://localhost:8080/"
    },
    "executionInfo": {
     "elapsed": 7,
     "status": "ok",
     "timestamp": 1687523482004,
     "user": {
      "displayName": "Meher Fatima",
      "userId": "08349742051843001487"
     },
     "user_tz": 420
    },
    "id": "Fj4vGaW5uX5M",
    "outputId": "1572962a-643f-44c1-a108-4236499db87a"
   },
   "outputs": [
    {
     "data": {
      "text/plain": [
       "1"
      ]
     },
     "execution_count": 3,
     "metadata": {},
     "output_type": "execute_result"
    }
   ],
   "source": [
    "x_ls = [1,1221,55,41,'shjd',False]\n",
    "x_ls[0]"
   ]
  },
  {
   "cell_type": "code",
   "execution_count": 5,
   "metadata": {
    "id": "Bg8Xp5o8wpsd"
   },
   "outputs": [
    {
     "ename": "TypeError",
     "evalue": "'set' object is not subscriptable",
     "output_type": "error",
     "traceback": [
      "\u001b[1;31m---------------------------------------------------------------------------\u001b[0m",
      "\u001b[1;31mTypeError\u001b[0m                                 Traceback (most recent call last)",
      "Cell \u001b[1;32mIn[5], line 2\u001b[0m\n\u001b[0;32m      1\u001b[0m x_set \u001b[38;5;241m=\u001b[39m { \u001b[38;5;241m1\u001b[39m,\u001b[38;5;241m1221\u001b[39m,\u001b[38;5;241m55\u001b[39m,\u001b[38;5;241m41\u001b[39m,\u001b[38;5;124m'\u001b[39m\u001b[38;5;124mshjd\u001b[39m\u001b[38;5;124m'\u001b[39m,\u001b[38;5;28;01mFalse\u001b[39;00m}\n\u001b[1;32m----> 2\u001b[0m x_set[\u001b[38;5;241m0\u001b[39m]\n",
      "\u001b[1;31mTypeError\u001b[0m: 'set' object is not subscriptable"
     ]
    }
   ],
   "source": [
    "x_set = { 1,1221,55,41,'shjd',False}\n",
    "x_set[0] # uncomment to look at the error"
   ]
  },
  {
   "cell_type": "markdown",
   "metadata": {
    "id": "0U22srldTmvF"
   },
   "source": [
    "# 2. Set Items\n",
    ">- Set items are unordered, unchangeable, and do not allow duplicate values.\n",
    "#Unordered:\n",
    ">- Unordered means that the items in a set do not have a defined order.\n",
    ">- Set items can appear in a different order every time you use them, and cannot be referred to by index or key.\n",
    "#Unchangeable:\n",
    ">- Set items are unchangeable, meaning that we cannot change the items after the set has been created.\n",
    "\n",
    "\n"
   ]
  },
  {
   "cell_type": "markdown",
   "metadata": {
    "id": "vsnnvONnU5Ud"
   },
   "source": [
    "#Get the Length of a Set:\n",
    ">- To determine how many items a set has, use the len() function.\n",
    "\n",
    "```python\n",
    "#Get the number of items in a set:\n",
    "this_set = {\"apple\", \"banana\", \"cherry\"}\n",
    "print(len(this_set))\n",
    "```\n"
   ]
  },
  {
   "cell_type": "markdown",
   "metadata": {
    "id": "3xrUN6ftVRoL"
   },
   "source": [
    "# Set Items - Data Types\n",
    ">- set items can be of any data type:\n",
    "\n",
    "```python\n",
    "#String, int and boolean data types:\n",
    "set1 = {\"apple\", \"banana\", \"cherry\"}\n",
    "set2 = {1, 5, 7, 9, 3}\n",
    "set3 = {True, False, False}\n"
   ]
  },
  {
   "cell_type": "markdown",
   "metadata": {
    "id": "V2PrNGf-XNc6"
   },
   "source": [
    "# Access Items\n",
    ">- You cannot access items in a set by referring to an index or a key.\n",
    ">- But you can loop through the set items using a for loop, or ask if a specified value is present in a set, by using the in keyword.\n",
    "\n",
    "```python\n",
    "#Loop through the set, and print the values:\n",
    "thisset = {\"apple\", \"banana\", \"cherry\"}\n",
    "for x in thisset:\n",
    "  print(x)\n",
    "```"
   ]
  },
  {
   "cell_type": "markdown",
   "metadata": {
    "id": "Snqwvqr3X2Yf"
   },
   "source": [
    "# 3. Add Items\n",
    ">- Once a set is created, you cannot change its items, but you can add new items.\n",
    ">- To add one item to a set use the add() method.\n",
    "\n",
    "```python\n",
    "#Add an item to a set, using the add() method:\n",
    "this_set = {\"apple\", \"banana\", \"cherry\"}\n",
    "this_set.add(\"orange\")\n",
    "print(this_set)\n",
    "```"
   ]
  },
  {
   "cell_type": "markdown",
   "metadata": {
    "id": "67nhVm7JYbIe"
   },
   "source": [
    "# 3. Adding and removing elements in set\n",
    "# Add Sets:\n",
    ">- To add items from another set into the current set, use the update() method.\n",
    "\n",
    "```python\n",
    "#Add elements from tropical into thisset:\n",
    "this_set = {\"apple\", \"banana\", \"cherry\"}\n",
    "tropical = {\"pineapple\", \"mango\", \"papaya\"}\n",
    "this_set.update(tropical)\n",
    "print(this_set)\n",
    "```"
   ]
  },
  {
   "cell_type": "markdown",
   "metadata": {
    "id": "wguPATd5ZAnh"
   },
   "source": [
    "# Add Any Iterable\n",
    ">- The object in the update() method does not have to be a set, it can be any iterable object (tuples, lists, dictionaries etc.).\n",
    "\n",
    "```python\n",
    "#Add elements of a list to at set:\n",
    "this_set = {\"apple\", \"banana\", \"cherry\"}\n",
    "mylist = [\"kiwi\", \"orange\"]\n",
    "this_set.update(mylist)\n",
    "print(this_set)\n",
    "```"
   ]
  },
  {
   "cell_type": "markdown",
   "metadata": {
    "id": "L55RGti1ZSgv"
   },
   "source": [
    "# Remove Set Items:\n",
    ">- To remove an item in a set, use the remove(), or the discard() method.\n",
    "\n",
    "```python\n",
    "#Remove \"banana\" by using the remove() method:\n",
    "this_set = {\"apple\", \"banana\", \"cherry\"}\n",
    "this_set.remove(\"banana\")\n",
    "print(this_set)\n",
    "```\n",
    "\n",
    "```Note: If the item to remove does not exist, remove() will raise an error.```"
   ]
  },
  {
   "cell_type": "markdown",
   "metadata": {
    "id": "jxE-KhuMZf5T"
   },
   "source": [
    "```python\n",
    "#Remove \"banana\" by using the discard() method:\n",
    "this_set = {\"apple\", \"banana\", \"cherry\"}\n",
    "this_set.discard(\"banana\")\n",
    "print(this_set)\n",
    "```"
   ]
  },
  {
   "cell_type": "markdown",
   "metadata": {
    "id": "4LaqoXoNZ8Sl"
   },
   "source": [
    "# Loop Items\n",
    ">- You can loop through the set items by using a for loop:\n",
    "\n",
    "```python\n",
    "\n",
    "#Loop through the set, and print the values:\n",
    "this_set = {\"apple\", \"banana\", \"cherry\"}\n",
    "for x in this_set:\n",
    "  print(x)\n",
    "```"
   ]
  },
  {
   "cell_type": "code",
   "execution_count": null,
   "metadata": {
    "colab": {
     "base_uri": "https://localhost:8080/"
    },
    "executionInfo": {
     "elapsed": 4,
     "status": "ok",
     "timestamp": 1687523487999,
     "user": {
      "displayName": "Meher Fatima",
      "userId": "08349742051843001487"
     },
     "user_tz": 420
    },
    "id": "SJzaBjBENeTS",
    "outputId": "4149a8df-9c0e-4e3b-eeba-bc4fe1e0ffca"
   },
   "outputs": [],
   "source": [
    "# Loop through the set, and print the values:\n",
    "this_set = {\"apple\", \"banana\", \"cherry\"}\n",
    "for x in this_set:\n",
    "  print(x)"
   ]
  },
  {
   "cell_type": "markdown",
   "metadata": {
    "id": "lLfT74XVIERW"
   },
   "source": [
    "# 4. SET methods\n",
    "Python has a set of built-in methods that you can use on sets."
   ]
  },
  {
   "cell_type": "markdown",
   "metadata": {
    "id": "CKKQZSyZGHmZ"
   },
   "source": [
    "\n",
    "\n",
    "\n",
    "|No|Method Name|Description|\n",
    "|---|---|---|\n",
    "|1|add\\(\\)    |Adds an element to the set|\n",
    "|2|clear\\(\\)    |Removes all the elements from the set|\n",
    "|3|copy\\(\\)  |Returns a copy of the set|\n",
    "|4|difference\\(\\)    |Returns a set containing the difference between two or more sets|\n",
    "|5|difference\\_update\\(\\)    |Removes the items in this set that are also included in another, specified set|\n",
    "|6|discard\\(\\)    |Remove the specified item|\n",
    "|7|intersection\\(\\)    |Returns a set, that is the intersection of two other sets|\n",
    "|8|intersection\\_update\\(\\)    |Removes the items in this set that are not present in other, specified set\\(s\\)|\n",
    "|9|isdisjoint\\(\\)    |Returns whether two sets have a intersection or not|\n",
    "|10|issubset\\(\\)    |Returns whether another set contains this set or not|\n",
    "|11|issuperset\\(\\)    |Returns whether this set contains another set or not|\n",
    "|12|pop\\(\\)    |Removes an element from the set|\n",
    "|13|remove\\(\\)    |Returns a set with the symmetric differences of two sets|\n",
    "|14|symmetric\\_difference\\_update\\(\\)    |inserts the symmetric differences from this set and another|\n",
    "|15|union\\(\\)    |Update the set with the union of this set and others|"
   ]
  },
  {
   "cell_type": "markdown",
   "metadata": {
    "id": "bcXdlC_zwf05"
   },
   "source": [
    "#### add()\n",
    "* it adds exactly one element to the set"
   ]
  },
  {
   "cell_type": "code",
   "execution_count": null,
   "metadata": {
    "colab": {
     "base_uri": "https://localhost:8080/"
    },
    "executionInfo": {
     "elapsed": 9,
     "status": "ok",
     "timestamp": 1687523459965,
     "user": {
      "displayName": "Meher Fatima",
      "userId": "08349742051843001487"
     },
     "user_tz": 420
    },
    "id": "4mRlsdyjwnWp",
    "outputId": "175956a7-54a9-4f1e-cdc8-e53940c05cab"
   },
   "outputs": [],
   "source": [
    "x = set('malayalam')\n",
    "print(x)\n",
    "x.add('z')\n",
    "print(x)\n",
    "x.add(1)\n",
    "#x.add('xx',5) # uncomment to see the error"
   ]
  },
  {
   "cell_type": "markdown",
   "metadata": {
    "id": "7vn6I1ljxzzq"
   },
   "source": [
    "#### update()\n",
    "* we use update to add two or more than two elements to set"
   ]
  },
  {
   "cell_type": "code",
   "execution_count": null,
   "metadata": {
    "colab": {
     "base_uri": "https://localhost:8080/"
    },
    "executionInfo": {
     "elapsed": 7,
     "status": "ok",
     "timestamp": 1687523460567,
     "user": {
      "displayName": "Meher Fatima",
      "userId": "08349742051843001487"
     },
     "user_tz": 420
    },
    "id": "Gb5zcwfSyZM4",
    "outputId": "9beec00c-5166-4811-8c5e-780bc7470f6a"
   },
   "outputs": [],
   "source": [
    "print(x)\n",
    "x.update([4,8,6])\n",
    "print(x)"
   ]
  },
  {
   "cell_type": "markdown",
   "metadata": {
    "id": "qLx-bkEqyzKc"
   },
   "source": [
    "#### remove() & discard()\n",
    "* we use remove() and discard() to remove element in set\n",
    "* remove() gives an error when we pass an element that isn't in the set\n",
    "* while discard doesn't gives an error in above sitution\n",
    "* we pass an element as input/arg for remove() and discard() methods"
   ]
  },
  {
   "cell_type": "code",
   "execution_count": null,
   "metadata": {
    "colab": {
     "base_uri": "https://localhost:8080/"
    },
    "executionInfo": {
     "elapsed": 10,
     "status": "ok",
     "timestamp": 1687523461132,
     "user": {
      "displayName": "Meher Fatima",
      "userId": "08349742051843001487"
     },
     "user_tz": 420
    },
    "id": "RRI_oUzczYpo",
    "outputId": "0be05894-252a-4b27-db26-10a9c73cad89"
   },
   "outputs": [],
   "source": [
    "print(x)\n",
    "x.remove(8)\n",
    "print(x)\n",
    "x.discard(6)\n",
    "print(x)\n",
    "# now both 6 & 8 have been removed, we try to remove 6 again using discard and remove\n",
    "x.discard(6)\n",
    "#x.remove(6) # uncomment to see the error"
   ]
  },
  {
   "cell_type": "markdown",
   "metadata": {
    "id": "uuO700420sda"
   },
   "source": [
    "#### pop()\n",
    "* it is going to pop a random element, pop in sets takes no inputs/arg"
   ]
  },
  {
   "cell_type": "code",
   "execution_count": null,
   "metadata": {
    "colab": {
     "base_uri": "https://localhost:8080/"
    },
    "executionInfo": {
     "elapsed": 5,
     "status": "ok",
     "timestamp": 1687523461682,
     "user": {
      "displayName": "Meher Fatima",
      "userId": "08349742051843001487"
     },
     "user_tz": 420
    },
    "id": "NR8fMLAK079g",
    "outputId": "a7a4c140-b420-4112-96ef-3974ed294dba"
   },
   "outputs": [],
   "source": [
    "print(x)\n",
    "a = x.pop()\n",
    "print(x, a, sep = '\\n')\n"
   ]
  },
  {
   "cell_type": "markdown",
   "metadata": {
    "id": "IMG5Ns7C1duS"
   },
   "source": [
    "#### copy()"
   ]
  },
  {
   "cell_type": "code",
   "execution_count": null,
   "metadata": {
    "colab": {
     "base_uri": "https://localhost:8080/"
    },
    "executionInfo": {
     "elapsed": 7,
     "status": "ok",
     "timestamp": 1687523462185,
     "user": {
      "displayName": "Meher Fatima",
      "userId": "08349742051843001487"
     },
     "user_tz": 420
    },
    "id": "TjFb1TjL1jfP",
    "outputId": "65977fe3-57dc-4c78-8784-769d577d3719"
   },
   "outputs": [],
   "source": [
    "a = set('hello world!')\n",
    "b = a\n",
    "print((a, id(a)), (b, id(b)), sep = '\\n')\n",
    "print()\n",
    "a.update(['xx','yy'])\n",
    "print((a, id(a)), (b, id(b)), sep = '\\n')\n",
    "print()"
   ]
  },
  {
   "cell_type": "code",
   "execution_count": null,
   "metadata": {
    "colab": {
     "base_uri": "https://localhost:8080/"
    },
    "executionInfo": {
     "elapsed": 6,
     "status": "ok",
     "timestamp": 1687523462186,
     "user": {
      "displayName": "Meher Fatima",
      "userId": "08349742051843001487"
     },
     "user_tz": 420
    },
    "id": "2W7FYHwt1_od",
    "outputId": "7e13857f-3108-4e1d-d436-f3a78947bbe5"
   },
   "outputs": [],
   "source": [
    "a = set('hello world!')\n",
    "b = a.copy()\n",
    "print((a, id(a)), (b, id(b)), sep = '\\n')\n",
    "print()\n",
    "a.update(['xx','yy'])\n",
    "print((a, id(a)), (b, id(b)), sep = '\\n')\n",
    "print()"
   ]
  },
  {
   "cell_type": "markdown",
   "metadata": {
    "id": "mNKy-g893UQI"
   },
   "source": [
    "#### clear()\n",
    "* clear() is going to erase all elements and returns an empty set"
   ]
  },
  {
   "cell_type": "code",
   "execution_count": null,
   "metadata": {
    "colab": {
     "base_uri": "https://localhost:8080/"
    },
    "executionInfo": {
     "elapsed": 3,
     "status": "ok",
     "timestamp": 1687523462701,
     "user": {
      "displayName": "Meher Fatima",
      "userId": "08349742051843001487"
     },
     "user_tz": 420
    },
    "id": "3XHgN3lJ3b5X",
    "outputId": "552be2c5-3a1d-4eb6-d559-fd1e4ca4d257"
   },
   "outputs": [],
   "source": [
    "print(b)\n",
    "b.clear()\n",
    "print(b)"
   ]
  },
  {
   "cell_type": "markdown",
   "metadata": {
    "id": "MHhGpz5Oi2zC"
   },
   "source": [
    "#### union"
   ]
  },
  {
   "cell_type": "code",
   "execution_count": 1,
   "metadata": {
    "colab": {
     "base_uri": "https://localhost:8080/"
    },
    "executionInfo": {
     "elapsed": 6,
     "status": "ok",
     "timestamp": 1687523463241,
     "user": {
      "displayName": "Meher Fatima",
      "userId": "08349742051843001487"
     },
     "user_tz": 420
    },
    "id": "n78MeKyRi1_V",
    "outputId": "675cbced-b9a3-4d6f-fd11-e4c3dc1ca671"
   },
   "outputs": [
    {
     "name": "stdout",
     "output_type": "stream",
     "text": [
      "{1, 2, 3, 4, 5}\n",
      "{4, 5, 6, 7, 8}\n",
      "{1, 2, 3, 4, 5, 6, 7, 8}\n",
      "{1, 2, 3, 4, 5, 6, 7, 8}\n"
     ]
    }
   ],
   "source": [
    "a = set([1,2,3,4,5])\n",
    "b = set([4,5,6,7,8])\n",
    "c = a.union(b)\n",
    "d = b.union(a)\n",
    "print(a, b , c, d, sep = '\\n')"
   ]
  },
  {
   "cell_type": "code",
   "execution_count": null,
   "metadata": {
    "id": "izW7inr4gZLZ"
   },
   "outputs": [],
   "source": []
  },
  {
   "cell_type": "markdown",
   "metadata": {
    "id": "Qoue8oWGjtZ8"
   },
   "source": [
    "#### intersection"
   ]
  },
  {
   "cell_type": "code",
   "execution_count": 13,
   "metadata": {
    "colab": {
     "base_uri": "https://localhost:8080/"
    },
    "executionInfo": {
     "elapsed": 7,
     "status": "ok",
     "timestamp": 1687523464375,
     "user": {
      "displayName": "Meher Fatima",
      "userId": "08349742051843001487"
     },
     "user_tz": 420
    },
    "id": "dcWzZ2Uvjvof",
    "outputId": "ecd1da46-4404-421b-ef30-1f12c69863a0"
   },
   "outputs": [
    {
     "name": "stdout",
     "output_type": "stream",
     "text": [
      "{1, 2, 3, 4, 5}\n",
      "{4, 5, 6, 7, 8}\n",
      "{4, 5}\n",
      "{4, 5}\n"
     ]
    }
   ],
   "source": [
    "a = set([1,2,3,4,5])\n",
    "b = set([4,5,6,7,8])\n",
    "c = a.intersection(b)\n",
    "d = b.intersection(a)\n",
    "print(a, b , c, d, sep = '\\n')"
   ]
  },
  {
   "cell_type": "code",
   "execution_count": null,
   "metadata": {
    "id": "71r8EE1gj6z_"
   },
   "outputs": [],
   "source": []
  },
  {
   "cell_type": "markdown",
   "metadata": {
    "id": "v8WFPUofkBoy"
   },
   "source": [
    "#### difference"
   ]
  },
  {
   "cell_type": "code",
   "execution_count": 15,
   "metadata": {
    "colab": {
     "base_uri": "https://localhost:8080/"
    },
    "executionInfo": {
     "elapsed": 3,
     "status": "ok",
     "timestamp": 1687523464987,
     "user": {
      "displayName": "Meher Fatima",
      "userId": "08349742051843001487"
     },
     "user_tz": 420
    },
    "id": "kTdvzh96kD5f",
    "outputId": "ccb9e24f-08d8-4e54-a84f-ea18b6c12a80"
   },
   "outputs": [
    {
     "name": "stdout",
     "output_type": "stream",
     "text": [
      "{1, 2, 3}\n",
      "{8, 6, 7}\n"
     ]
    }
   ],
   "source": [
    "a = set([1,2,3,4,5])\n",
    "b = set([4,5,6,7,8])\n",
    "c = a.difference(b)\n",
    "d = b.difference(a)\n",
    "e = set()\n",
    "print(c, d, sep = '\\n')"
   ]
  },
  {
   "cell_type": "code",
   "execution_count": 17,
   "metadata": {
    "colab": {
     "base_uri": "https://localhost:8080/"
    },
    "executionInfo": {
     "elapsed": 8,
     "status": "ok",
     "timestamp": 1687523465772,
     "user": {
      "displayName": "Meher Fatima",
      "userId": "08349742051843001487"
     },
     "user_tz": 420
    },
    "id": "Eb-qfb0IkHi3",
    "outputId": "b2db1e5a-ead6-4794-f4c2-c4d7ef1abc81"
   },
   "outputs": [
    {
     "data": {
      "text/plain": [
       "{4, 5, 6, 7, 8}"
      ]
     },
     "execution_count": 17,
     "metadata": {},
     "output_type": "execute_result"
    }
   ],
   "source": [
    "b.difference(e)"
   ]
  },
  {
   "cell_type": "markdown",
   "metadata": {
    "id": "85zygUbckxBG"
   },
   "source": [
    "#### symmetric difference"
   ]
  },
  {
   "cell_type": "code",
   "execution_count": 19,
   "metadata": {
    "colab": {
     "base_uri": "https://localhost:8080/"
    },
    "executionInfo": {
     "elapsed": 8,
     "status": "ok",
     "timestamp": 1687523466411,
     "user": {
      "displayName": "Meher Fatima",
      "userId": "08349742051843001487"
     },
     "user_tz": 420
    },
    "id": "KN3byOQvlCJu",
    "outputId": "fe109dc4-7bdd-4e8e-ea5b-159607a08368"
   },
   "outputs": [
    {
     "name": "stdout",
     "output_type": "stream",
     "text": [
      "{1, 2, 3, 4, 5}\n",
      "{4, 5, 6, 7, 8}\n",
      "{1, 2, 3, 6, 7, 8}\n",
      "{1, 2, 3, 6, 7, 8}\n"
     ]
    }
   ],
   "source": [
    "a = set([1,2,3,4,5])\n",
    "b = set([4,5,6,7,8])\n",
    "c = a.symmetric_difference(b)\n",
    "d = b.symmetric_difference(a)\n",
    "\n",
    "print(a, b , c, d, sep = '\\n')"
   ]
  },
  {
   "cell_type": "markdown",
   "metadata": {
    "id": "f57rBSidlmVc"
   },
   "source": [
    "#### intersection_update\n",
    "* it'll calculate the intersection of two sets and update it as value of set it is called upon\n",
    "\n",
    "* a = a.intersection(b) >>>>>>> a.intersection_update(b)"
   ]
  },
  {
   "cell_type": "code",
   "execution_count": 21,
   "metadata": {
    "colab": {
     "base_uri": "https://localhost:8080/"
    },
    "executionInfo": {
     "elapsed": 3,
     "status": "ok",
     "timestamp": 1687523466994,
     "user": {
      "displayName": "Meher Fatima",
      "userId": "08349742051843001487"
     },
     "user_tz": 420
    },
    "id": "9mIyapMil3cv",
    "outputId": "40d573a4-1f31-4109-dc96-12e2a8a6813c"
   },
   "outputs": [
    {
     "name": "stdout",
     "output_type": "stream",
     "text": [
      "{1, 2, 3, 4, 5}\n",
      "{4, 5, 6, 7, 8}\n",
      "{4, 5}\n",
      "{4, 5, 6, 7, 8}\n"
     ]
    }
   ],
   "source": [
    "a = set([1,2,3,4,5])\n",
    "b = set([4,5,6,7,8])\n",
    "print(a, b, sep = '\\n')\n",
    "a.intersection_update(b)\n",
    "print(a, b, sep = '\\n')"
   ]
  },
  {
   "cell_type": "markdown",
   "metadata": {
    "id": "Rd7N6uNXoFkQ"
   },
   "source": [
    "#### difference_update\n",
    "* it'll calculate the difference of two sets and update it as value of set it is called upon\n",
    "\n",
    "* a = a.difference_update(b) >>>>>>> a.difference_update(b)"
   ]
  },
  {
   "cell_type": "code",
   "execution_count": 23,
   "metadata": {
    "colab": {
     "base_uri": "https://localhost:8080/"
    },
    "executionInfo": {
     "elapsed": 8,
     "status": "ok",
     "timestamp": 1687523467531,
     "user": {
      "displayName": "Meher Fatima",
      "userId": "08349742051843001487"
     },
     "user_tz": 420
    },
    "id": "F3FzK5XyoP1c",
    "outputId": "227df44e-63b1-4b6c-a5b8-4fd4e0439258"
   },
   "outputs": [
    {
     "name": "stdout",
     "output_type": "stream",
     "text": [
      "{1, 2, 3, 4, 5}\n",
      "{4, 5, 6, 7, 8}\n",
      "{1, 2, 3}\n",
      "{4, 5, 6, 7, 8}\n"
     ]
    }
   ],
   "source": [
    "a = set([1,2,3,4,5])\n",
    "b = set([4,5,6,7,8])\n",
    "print(a, b, sep = '\\n')\n",
    "a.difference_update(b)\n",
    "print(a, b, sep = '\\n')"
   ]
  },
  {
   "cell_type": "markdown",
   "metadata": {
    "id": "UzK6sCaio0u4"
   },
   "source": [
    "#### symmetric_difference_update\n",
    "* it'll calculate the symmetric_difference of two sets and update it as value of set it is called upon\n",
    "\n",
    "* a = a.symmetric_difference_update(b) >>>>>>> a.symmetric_difference_update(b)"
   ]
  },
  {
   "cell_type": "code",
   "execution_count": 25,
   "metadata": {
    "colab": {
     "base_uri": "https://localhost:8080/"
    },
    "executionInfo": {
     "elapsed": 5,
     "status": "ok",
     "timestamp": 1687523467531,
     "user": {
      "displayName": "Meher Fatima",
      "userId": "08349742051843001487"
     },
     "user_tz": 420
    },
    "id": "GQiWjcgfpBAE",
    "outputId": "850651ec-b30e-4a00-fe1f-5f534ee33d46"
   },
   "outputs": [
    {
     "name": "stdout",
     "output_type": "stream",
     "text": [
      "{1, 2, 3, 4, 5}\n",
      "{4, 5, 6, 7, 8}\n",
      "{1, 2, 3, 6, 7, 8}\n",
      "{4, 5, 6, 7, 8}\n"
     ]
    }
   ],
   "source": [
    "a = set([1,2,3,4,5])\n",
    "b = set([4,5,6,7,8])\n",
    "print(a, b, sep = '\\n')\n",
    "a.symmetric_difference_update(b)\n",
    "print(a, b, sep = '\\n')"
   ]
  },
  {
   "cell_type": "markdown",
   "metadata": {
    "id": "wCi0GZTWqkNm"
   },
   "source": [
    "#### 'isdisjoint', 'issubset', 'issuperset'"
   ]
  },
  {
   "cell_type": "code",
   "execution_count": 27,
   "metadata": {
    "colab": {
     "base_uri": "https://localhost:8080/"
    },
    "executionInfo": {
     "elapsed": 3,
     "status": "ok",
     "timestamp": 1687523468115,
     "user": {
      "displayName": "Meher Fatima",
      "userId": "08349742051843001487"
     },
     "user_tz": 420
    },
    "id": "vKzg_wGfqRYZ",
    "outputId": "102ee5c8-0610-4444-abec-2f520cd8588c"
   },
   "outputs": [
    {
     "name": "stdout",
     "output_type": "stream",
     "text": [
      "{1, 2, 3, 4, 5}\n",
      "{4, 5, 6, 7, 8}\n",
      "{1, 2, 3, 4, 5, 6, 7, 8}\n",
      "{11, 12, 13, 14, 15}\n"
     ]
    }
   ],
   "source": [
    "a = set([1,2,3,4,5])\n",
    "b = set([4,5,6,7,8])\n",
    "c = a.union(b)\n",
    "d = {11,12,13,14,15}\n",
    "print(a, b, c, d, sep = '\\n')"
   ]
  },
  {
   "cell_type": "code",
   "execution_count": null,
   "metadata": {
    "id": "811DK1N9NKwY"
   },
   "outputs": [],
   "source": []
  }
 ],
 "metadata": {
  "colab": {
   "provenance": []
  },
  "kernelspec": {
   "display_name": "Python [conda env:base] *",
   "language": "python",
   "name": "conda-base-py"
  },
  "language_info": {
   "codemirror_mode": {
    "name": "ipython",
    "version": 3
   },
   "file_extension": ".py",
   "mimetype": "text/x-python",
   "name": "python",
   "nbconvert_exporter": "python",
   "pygments_lexer": "ipython3",
   "version": "3.12.7"
  }
 },
 "nbformat": 4,
 "nbformat_minor": 4
}
