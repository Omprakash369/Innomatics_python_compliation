{
 "cells": [
  {
   "cell_type": "markdown",
   "id": "689e92d6-3876-4cc5-8c4e-53364e406063",
   "metadata": {},
   "source": [
    "# String Operations"
   ]
  },
  {
   "cell_type": "code",
   "execution_count": 86,
   "id": "0e5187c3-bb59-44ec-852a-054ebd01bea6",
   "metadata": {},
   "outputs": [],
   "source": [
    " st = 'Innomatics Research Lab   '"
   ]
  },
  {
   "cell_type": "raw",
   "id": "81f7c331-e28f-46fe-ab0d-fcdfe6d5f5bc",
   "metadata": {},
   "source": [
    "# Indexing\n",
    "It always starts from zero in the forward direction\n",
    "it also assigns index in the backword direction that starts from -1"
   ]
  },
  {
   "cell_type": "code",
   "execution_count": 88,
   "id": "aeda33ea-0548-4dc4-88a6-cc7be12415c7",
   "metadata": {},
   "outputs": [
    {
     "data": {
      "text/plain": [
       "'I'"
      ]
     },
     "execution_count": 88,
     "metadata": {},
     "output_type": "execute_result"
    }
   ],
   "source": [
    "# Slicing\n",
    "st[0]"
   ]
  },
  {
   "cell_type": "code",
   "execution_count": 90,
   "id": "7225ca17-a539-4ed1-9293-3403f4536a89",
   "metadata": {},
   "outputs": [
    {
     "data": {
      "text/plain": [
       "'Innom'"
      ]
     },
     "execution_count": 90,
     "metadata": {},
     "output_type": "execute_result"
    }
   ],
   "source": [
    "st[0:5]"
   ]
  },
  {
   "cell_type": "code",
   "execution_count": 92,
   "id": "09822117-b5a7-4eb2-9a0c-4837199c8fb6",
   "metadata": {},
   "outputs": [
    {
     "data": {
      "text/plain": [
       "'Re'"
      ]
     },
     "execution_count": 92,
     "metadata": {},
     "output_type": "execute_result"
    }
   ],
   "source": [
    "st[11:13]"
   ]
  },
  {
   "cell_type": "code",
   "execution_count": 94,
   "id": "24058fa7-4d6b-4150-8dcb-1262304f3490",
   "metadata": {},
   "outputs": [
    {
     "data": {
      "text/plain": [
       "'a'"
      ]
     },
     "execution_count": 94,
     "metadata": {},
     "output_type": "execute_result"
    }
   ],
   "source": [
    "st[-5]"
   ]
  },
  {
   "cell_type": "code",
   "execution_count": 96,
   "id": "a9076235-1a5e-4fc4-9dfa-283c7ec8dd82",
   "metadata": {},
   "outputs": [
    {
     "data": {
      "text/plain": [
       "'ab'"
      ]
     },
     "execution_count": 96,
     "metadata": {},
     "output_type": "execute_result"
    }
   ],
   "source": [
    "st[-5:-3]"
   ]
  },
  {
   "cell_type": "code",
   "execution_count": 98,
   "id": "35705ffa-d38d-49bf-b084-f8879155d6d3",
   "metadata": {},
   "outputs": [
    {
     "data": {
      "text/plain": [
       "'Innomatics Research Lab   '"
      ]
     },
     "execution_count": 98,
     "metadata": {},
     "output_type": "execute_result"
    }
   ],
   "source": [
    "st"
   ]
  },
  {
   "cell_type": "code",
   "execution_count": 100,
   "id": "da612d94-71a4-4cce-aadb-6f62ab370b55",
   "metadata": {},
   "outputs": [
    {
     "data": {
      "text/plain": [
       "'s Research Lab'"
      ]
     },
     "execution_count": 100,
     "metadata": {},
     "output_type": "execute_result"
    }
   ],
   "source": [
    "st[9:-3]"
   ]
  },
  {
   "cell_type": "code",
   "execution_count": 102,
   "id": "59955be2-30c8-4ade-a318-bcfa9b78ca3c",
   "metadata": {},
   "outputs": [
    {
     "data": {
      "text/plain": [
       "'earch Lab   '"
      ]
     },
     "execution_count": 102,
     "metadata": {},
     "output_type": "execute_result"
    }
   ],
   "source": [
    "st[14:]"
   ]
  },
  {
   "cell_type": "code",
   "execution_count": 106,
   "id": "c03d728b-a0c8-4e91-b6ec-be8d77cf15fe",
   "metadata": {},
   "outputs": [
    {
     "data": {
      "text/plain": [
       "'Iots'"
      ]
     },
     "execution_count": 106,
     "metadata": {},
     "output_type": "execute_result"
    }
   ],
   "source": [
    "st[0:10:3]"
   ]
  },
  {
   "cell_type": "code",
   "execution_count": 108,
   "id": "c135f4ca-1300-493e-b751-caaaebfa63ca",
   "metadata": {},
   "outputs": [
    {
     "data": {
      "text/plain": [
       "'Innomatics Research Lab   '"
      ]
     },
     "execution_count": 108,
     "metadata": {},
     "output_type": "execute_result"
    }
   ],
   "source": [
    "st"
   ]
  },
  {
   "cell_type": "code",
   "execution_count": null,
   "id": "4c9575ee-a4f0-45f0-9b2e-a2559f8e05e1",
   "metadata": {},
   "outputs": [],
   "source": [
    "Innmatics Research Lab   "
   ]
  },
  {
   "cell_type": "code",
   "execution_count": 110,
   "id": "2c4dc26f-9b6b-41ff-8a82-3a8e9e7c2c42",
   "metadata": {},
   "outputs": [
    {
     "data": {
      "text/plain": [
       "'Innmatics Research Lab   '"
      ]
     },
     "execution_count": 110,
     "metadata": {},
     "output_type": "execute_result"
    }
   ],
   "source": [
    "result = st[:3] + st[4:]\n",
    "result"
   ]
  },
  {
   "cell_type": "code",
   "execution_count": 120,
   "id": "e9d317b8-068f-4a60-8a69-58af5f4b48fd",
   "metadata": {},
   "outputs": [
    {
     "data": {
      "text/plain": [
       "'innomatics research lab   '"
      ]
     },
     "execution_count": 120,
     "metadata": {},
     "output_type": "execute_result"
    }
   ],
   "source": [
    "# lower, upper\n",
    "lower = st.lower()\n",
    "lower"
   ]
  },
  {
   "cell_type": "code",
   "execution_count": 122,
   "id": "aea5a843-e8ba-4e0e-913b-fcfe2c34496c",
   "metadata": {},
   "outputs": [
    {
     "data": {
      "text/plain": [
       "'INNOMATICS RESEARCH LAB   '"
      ]
     },
     "execution_count": 122,
     "metadata": {},
     "output_type": "execute_result"
    }
   ],
   "source": [
    "st.upper()\n",
    "        \n"
   ]
  },
  {
   "cell_type": "code",
   "execution_count": null,
   "id": "ca551ff9-49b8-4022-9d50-6c63ee1f6ba0",
   "metadata": {},
   "outputs": [],
   "source": []
  },
  {
   "cell_type": "code",
   "execution_count": 124,
   "id": "a8a60860-ffd1-4b50-b61a-20b9685620ca",
   "metadata": {},
   "outputs": [
    {
     "data": {
      "text/plain": [
       "26"
      ]
     },
     "execution_count": 124,
     "metadata": {},
     "output_type": "execute_result"
    }
   ],
   "source": [
    "# string length \n",
    "len(st)"
   ]
  },
  {
   "cell_type": "code",
   "execution_count": 235,
   "id": "540bd528-265c-47e9-ac0b-cd6e7a0d74e3",
   "metadata": {},
   "outputs": [],
   "source": [
    "# integer length\n",
    "x = 9137491384739847319471398137439184"
   ]
  },
  {
   "cell_type": "code",
   "execution_count": 233,
   "id": "90453713-2b71-4057-93fe-bd78d3801c6c",
   "metadata": {},
   "outputs": [
    {
     "data": {
      "text/plain": [
       "17"
      ]
     },
     "execution_count": 233,
     "metadata": {},
     "output_type": "execute_result"
    }
   ],
   "source": [
    "len(str(x))"
   ]
  },
  {
   "cell_type": "code",
   "execution_count": 136,
   "id": "b45b6475-59da-4338-9059-eb02861e753e",
   "metadata": {},
   "outputs": [
    {
     "data": {
      "text/plain": [
       "False"
      ]
     },
     "execution_count": 136,
     "metadata": {},
     "output_type": "execute_result"
    }
   ],
   "source": [
    "len(str(x)) == 10"
   ]
  },
  {
   "cell_type": "code",
   "execution_count": 138,
   "id": "442b7715-83e2-417d-9e13-0d368785dc89",
   "metadata": {},
   "outputs": [
    {
     "data": {
      "text/plain": [
       "'Innomatics Research Lab   '"
      ]
     },
     "execution_count": 138,
     "metadata": {},
     "output_type": "execute_result"
    }
   ],
   "source": [
    "st"
   ]
  },
  {
   "cell_type": "code",
   "execution_count": 140,
   "id": "575ac112-4c55-450f-bb6c-330944721d4f",
   "metadata": {},
   "outputs": [
    {
     "data": {
      "text/plain": [
       "'Innomatics research lab   '"
      ]
     },
     "execution_count": 140,
     "metadata": {},
     "output_type": "execute_result"
    }
   ],
   "source": [
    "# capitalize\n",
    "st.capitalize()"
   ]
  },
  {
   "cell_type": "code",
   "execution_count": 158,
   "id": "9d30708b-1021-4168-9def-824a4a6d9154",
   "metadata": {},
   "outputs": [],
   "source": [
    "# strip\n",
    "st = st.strip()"
   ]
  },
  {
   "cell_type": "code",
   "execution_count": 148,
   "id": "59969aeb-49be-4240-a500-b4b42471e8aa",
   "metadata": {},
   "outputs": [
    {
     "data": {
      "text/plain": [
       "'Innomatics Res Lab   '"
      ]
     },
     "execution_count": 148,
     "metadata": {},
     "output_type": "execute_result"
    }
   ],
   "source": [
    "# replace\n",
    "st.replace('Research','Res')"
   ]
  },
  {
   "cell_type": "code",
   "execution_count": 150,
   "id": "d9591cb9-b85e-4508-b78f-3397a9909611",
   "metadata": {},
   "outputs": [
    {
     "data": {
      "text/plain": [
       "'Innomatics Research Lab'"
      ]
     },
     "execution_count": 150,
     "metadata": {},
     "output_type": "execute_result"
    }
   ],
   "source": [
    "st.replace('   ','')"
   ]
  },
  {
   "cell_type": "code",
   "execution_count": 152,
   "id": "537e64e5-15cb-4bf3-9172-321963d3291b",
   "metadata": {},
   "outputs": [
    {
     "data": {
      "text/plain": [
       "'Innomatics$Research$Lab$$$'"
      ]
     },
     "execution_count": 152,
     "metadata": {},
     "output_type": "execute_result"
    }
   ],
   "source": [
    "st.replace(' ','$')"
   ]
  },
  {
   "cell_type": "code",
   "execution_count": 156,
   "id": "deb3ef6a-e729-4f96-9d65-19e37e6f3b43",
   "metadata": {},
   "outputs": [
    {
     "data": {
      "text/plain": [
       "'Innomatics Research Lab   '"
      ]
     },
     "execution_count": 156,
     "metadata": {},
     "output_type": "execute_result"
    }
   ],
   "source": [
    "# Title\n",
    "lower.title()"
   ]
  },
  {
   "cell_type": "code",
   "execution_count": 164,
   "id": "73693315-275a-4f95-9f16-4886030363fa",
   "metadata": {},
   "outputs": [
    {
     "data": {
      "text/plain": [
       "3"
      ]
     },
     "execution_count": 164,
     "metadata": {},
     "output_type": "execute_result"
    }
   ],
   "source": [
    "# count\n",
    "st.count('a')"
   ]
  },
  {
   "cell_type": "code",
   "execution_count": 170,
   "id": "351e5434-a188-450a-8c5d-5883192269b7",
   "metadata": {},
   "outputs": [
    {
     "data": {
      "text/plain": [
       "True"
      ]
     },
     "execution_count": 170,
     "metadata": {},
     "output_type": "execute_result"
    }
   ],
   "source": [
    "st.count('a') -1 == st.count('e')"
   ]
  },
  {
   "cell_type": "code",
   "execution_count": null,
   "id": "a8d77753-fff1-4b08-a714-7691e74783ef",
   "metadata": {},
   "outputs": [],
   "source": []
  },
  {
   "cell_type": "code",
   "execution_count": 172,
   "id": "060d0c38-f9ff-4922-a206-36b3be9d36b7",
   "metadata": {},
   "outputs": [
    {
     "data": {
      "text/plain": [
       "True"
      ]
     },
     "execution_count": 172,
     "metadata": {},
     "output_type": "execute_result"
    }
   ],
   "source": [
    "# endswith\n",
    "st.endswith('Lab')"
   ]
  },
  {
   "cell_type": "code",
   "execution_count": 174,
   "id": "91fc3740-ad22-43b8-b16a-bc9c3c05261c",
   "metadata": {},
   "outputs": [
    {
     "data": {
      "text/plain": [
       "True"
      ]
     },
     "execution_count": 174,
     "metadata": {},
     "output_type": "execute_result"
    }
   ],
   "source": [
    "st.endswith('Research Lab')"
   ]
  },
  {
   "cell_type": "code",
   "execution_count": 182,
   "id": "1f8ae255-2c5c-4773-baa4-67c86c980377",
   "metadata": {},
   "outputs": [
    {
     "data": {
      "text/plain": [
       "True"
      ]
     },
     "execution_count": 182,
     "metadata": {},
     "output_type": "execute_result"
    }
   ],
   "source": [
    "# startswith\n",
    "st.startswith('Innomatics')"
   ]
  },
  {
   "cell_type": "code",
   "execution_count": 188,
   "id": "e5e65528-6163-4c5b-ad6c-5988a1be870f",
   "metadata": {},
   "outputs": [
    {
     "data": {
      "text/plain": [
       "5"
      ]
     },
     "execution_count": 188,
     "metadata": {},
     "output_type": "execute_result"
    }
   ],
   "source": [
    "# find\n",
    "st.find('a')"
   ]
  },
  {
   "cell_type": "code",
   "execution_count": 190,
   "id": "246fdedb-976a-45c0-9dc6-e7ffb3f690ad",
   "metadata": {},
   "outputs": [
    {
     "data": {
      "text/plain": [
       "5"
      ]
     },
     "execution_count": 190,
     "metadata": {},
     "output_type": "execute_result"
    }
   ],
   "source": [
    "# index\n",
    "st.index('a')"
   ]
  },
  {
   "cell_type": "code",
   "execution_count": 192,
   "id": "2fa0efef-0b76-4469-997a-7cffe7191a89",
   "metadata": {},
   "outputs": [
    {
     "data": {
      "text/plain": [
       "-1"
      ]
     },
     "execution_count": 192,
     "metadata": {},
     "output_type": "execute_result"
    }
   ],
   "source": [
    "# if data don't exist\n",
    "st.find('z')"
   ]
  },
  {
   "cell_type": "code",
   "execution_count": 194,
   "id": "bb9aa93c-b7e6-45b2-9511-65e544001cf6",
   "metadata": {},
   "outputs": [
    {
     "ename": "ValueError",
     "evalue": "substring not found",
     "output_type": "error",
     "traceback": [
      "\u001b[1;31m---------------------------------------------------------------------------\u001b[0m",
      "\u001b[1;31mValueError\u001b[0m                                Traceback (most recent call last)",
      "Cell \u001b[1;32mIn[194], line 1\u001b[0m\n\u001b[1;32m----> 1\u001b[0m st\u001b[38;5;241m.\u001b[39mindex(\u001b[38;5;124m'\u001b[39m\u001b[38;5;124mz\u001b[39m\u001b[38;5;124m'\u001b[39m)\n",
      "\u001b[1;31mValueError\u001b[0m: substring not found"
     ]
    }
   ],
   "source": [
    "st.index('z')"
   ]
  },
  {
   "cell_type": "code",
   "execution_count": 196,
   "id": "63ac477b-10f6-438d-8e6a-9ec7e3a00215",
   "metadata": {},
   "outputs": [
    {
     "data": {
      "text/plain": [
       "False"
      ]
     },
     "execution_count": 196,
     "metadata": {},
     "output_type": "execute_result"
    }
   ],
   "source": [
    "# isdigit\n",
    "st.isdigit()"
   ]
  },
  {
   "cell_type": "code",
   "execution_count": 202,
   "id": "e6551069-4ca5-42d6-9433-8f6ad8daac70",
   "metadata": {},
   "outputs": [],
   "source": [
    "x = '23'"
   ]
  },
  {
   "cell_type": "code",
   "execution_count": 204,
   "id": "7ca13623-8bfc-4448-9f82-584fbef86abd",
   "metadata": {},
   "outputs": [
    {
     "data": {
      "text/plain": [
       "True"
      ]
     },
     "execution_count": 204,
     "metadata": {},
     "output_type": "execute_result"
    }
   ],
   "source": [
    "x.isdigit()"
   ]
  },
  {
   "cell_type": "code",
   "execution_count": 200,
   "id": "2add9cce-25f2-4184-ad85-413777daf5ed",
   "metadata": {},
   "outputs": [
    {
     "data": {
      "text/plain": [
       "True"
      ]
     },
     "execution_count": 200,
     "metadata": {},
     "output_type": "execute_result"
    }
   ],
   "source": [
    "x.is_integer()"
   ]
  },
  {
   "cell_type": "code",
   "execution_count": 206,
   "id": "556579e4-f335-4178-b7ed-f4829ba229f5",
   "metadata": {},
   "outputs": [
    {
     "data": {
      "text/plain": [
       "'Innomatics Research Lab'"
      ]
     },
     "execution_count": 206,
     "metadata": {},
     "output_type": "execute_result"
    }
   ],
   "source": [
    "st"
   ]
  },
  {
   "cell_type": "code",
   "execution_count": 212,
   "id": "b2c93f6b-a324-4745-90a0-61bc1c95d826",
   "metadata": {},
   "outputs": [
    {
     "data": {
      "text/plain": [
       "['Innom', 'tics Rese', 'rch L', 'b']"
      ]
     },
     "execution_count": 212,
     "metadata": {},
     "output_type": "execute_result"
    }
   ],
   "source": [
    "# split\n",
    "st.split(sep= 'a')"
   ]
  },
  {
   "cell_type": "code",
   "execution_count": 214,
   "id": "78c3f1e6-5fc0-4ca9-ac7c-2b561d3af869",
   "metadata": {},
   "outputs": [
    {
     "data": {
      "text/plain": [
       "'Innomatics$Research$Lab'"
      ]
     },
     "execution_count": 214,
     "metadata": {},
     "output_type": "execute_result"
    }
   ],
   "source": [
    "test = st.replace(' ','$')\n",
    "test"
   ]
  },
  {
   "cell_type": "code",
   "execution_count": 216,
   "id": "c08fb6e9-8ae3-4696-8d8c-034430929a0e",
   "metadata": {},
   "outputs": [
    {
     "data": {
      "text/plain": [
       "['Innomatics', 'Research', 'Lab']"
      ]
     },
     "execution_count": 216,
     "metadata": {},
     "output_type": "execute_result"
    }
   ],
   "source": [
    "test.split('$')"
   ]
  },
  {
   "cell_type": "code",
   "execution_count": 220,
   "id": "445ad05c-9f7e-4a4a-a173-0b5fae16b733",
   "metadata": {},
   "outputs": [
    {
     "data": {
      "text/plain": [
       "'Innomatics Research Lab'"
      ]
     },
     "execution_count": 220,
     "metadata": {},
     "output_type": "execute_result"
    }
   ],
   "source": [
    "st"
   ]
  },
  {
   "cell_type": "code",
   "execution_count": null,
   "id": "056b61a6-29c6-4440-abf7-beb7e419466f",
   "metadata": {},
   "outputs": [],
   "source": []
  }
 ],
 "metadata": {
  "kernelspec": {
   "display_name": "Python [conda env:base] *",
   "language": "python",
   "name": "conda-base-py"
  },
  "language_info": {
   "codemirror_mode": {
    "name": "ipython",
    "version": 3
   },
   "file_extension": ".py",
   "mimetype": "text/x-python",
   "name": "python",
   "nbconvert_exporter": "python",
   "pygments_lexer": "ipython3",
   "version": "3.12.7"
  }
 },
 "nbformat": 4,
 "nbformat_minor": 5
}
